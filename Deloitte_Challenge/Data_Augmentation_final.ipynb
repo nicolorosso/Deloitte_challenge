{
 "cells": [
  {
   "cell_type": "markdown",
   "id": "97dd1f5b",
   "metadata": {
    "id": "97dd1f5b",
    "jp-MarkdownHeadingCollapsed": true,
    "tags": []
   },
   "source": [
    "# DATA AUGMENTATION\n",
    "The notebook is structures as follows: \n",
    "- first, the original dataset is processed so that we can avoid data leakgage in the modeling phase;\n",
    "- second, different techniques of data augmentation were performed. \n",
    "- Third, different models were trained, tuned, and evaluated on the augmented data.\n",
    "\n",
    "No improvements were observed. "
   ]
  },
  {
   "cell_type": "markdown",
   "id": "076e47c1",
   "metadata": {
    "id": "076e47c1",
    "tags": []
   },
   "source": [
    "### IMPORTING NEEDED LIBRARIES"
   ]
  },
  {
   "cell_type": "code",
   "execution_count": 1,
   "id": "f9059448-6933-4d4d-a7b5-fd5d496b2bb6",
   "metadata": {
    "id": "f9059448-6933-4d4d-a7b5-fd5d496b2bb6"
   },
   "outputs": [],
   "source": [
    "import pandas as pd\n",
    "import numpy as np\n",
    "import matplotlib.pyplot as plt\n",
    "import seaborn as sns\n",
    "import plotly.express as px\n",
    "import plotly.graph_objects as go\n",
    "import networkx as nx\n",
    "import yellowbrick\n",
    "import shap\n",
    "import vaex\n",
    "import vaex.ml\n",
    "import datetime as dt\n",
    "from scipy import stats\n",
    "from scipy.stats import randint as sp_randint\n",
    "from sklearn.model_selection import train_test_split, KFold, cross_val_score\n",
    "from sklearn.preprocessing import OneHotEncoder, MinMaxScaler, RobustScaler, LabelEncoder, PolynomialFeatures\n",
    "from sklearn.compose import ColumnTransformer\n",
    "from sklearn.pipeline import Pipeline\n",
    "from sklearn.feature_selection import SelectPercentile, chi2\n",
    "from sklearn.linear_model import LogisticRegression, LinearRegression\n",
    "from sklearn.svm import SVR\n",
    "from sklearn.ensemble import ExtraTreesRegressor, RandomForestClassifier\n",
    "from sklearn.metrics import classification_report, confusion_matrix, ConfusionMatrixDisplay\n",
    "from sklearn.model_selection import GridSearchCV, RandomizedSearchCV, cross_val_score\n",
    "from sklearn.metrics import mean_squared_error, mean_absolute_error,mean_absolute_percentage_error, r2_score, matthews_corrcoef\n",
    "from sklearn.utils.class_weight import compute_class_weight\n",
    "import xgboost as xgb\n",
    "from sklearn.preprocessing import MultiLabelBinarizer\n",
    "import datetime as dt"
   ]
  },
  {
   "cell_type": "markdown",
   "id": "b9c741c9",
   "metadata": {
    "id": "b9c741c9",
    "tags": []
   },
   "source": [
    "## CLASSIFICATION TASK"
   ]
  },
  {
   "cell_type": "markdown",
   "id": "0067b2af",
   "metadata": {
    "id": "0067b2af"
   },
   "source": [
    "#### IMPORTING DATASET"
   ]
  },
  {
   "cell_type": "code",
   "execution_count": 6,
   "id": "0f9bd7df",
   "metadata": {
    "id": "0f9bd7df"
   },
   "outputs": [],
   "source": [
    "#visualizing all the columns \n",
    "pd.set_option('display.max_columns',None)\n",
    "#importing origanal dataset\n",
    "df = pd.read_csv('SupplyChainDataset.csv')"
   ]
  },
  {
   "cell_type": "markdown",
   "id": "19bddf31",
   "metadata": {
    "id": "19bddf31",
    "tags": []
   },
   "source": [
    "### TRASFORMING THE ORIGINAL DATASET INTO GROUPED DATASET"
   ]
  },
  {
   "cell_type": "code",
   "execution_count": 12,
   "id": "0ff41ffa-0e6b-4e71-914f-2c7d3d715c89",
   "metadata": {
    "id": "0ff41ffa-0e6b-4e71-914f-2c7d3d715c89"
   },
   "outputs": [],
   "source": [
    "#transforming the original dataset into a grouped dataset\n",
    "agg_functions = {\n",
    "    'Type': 'first',\n",
    "    'Order Status': 'first',\n",
    "    'Order City': 'first',\n",
    "    'Customer City':'first',\n",
    "    'Order State': 'first',\n",
    "    'Customer State':'first',\n",
    "    'Delivery Status': 'first',\n",
    "    'Shipping Mode':'first',\n",
    "    'Days for shipping (real)': 'first',\n",
    "    'order date (DateOrders)': 'first',\n",
    "    'Benefit per order': ['sum', 'median'],\n",
    "    'Order Item Discount Rate': 'median',\n",
    "    'Customer Segment': 'first',\n",
    "    'Customer Id': 'first',\n",
    "    'Latitude': 'first',\n",
    "    'Longitude': 'first',\n",
    "    #'Category Id': lambda x: ','.join(x.unique()),\n",
    "    'Category Name': lambda x: ','.join(x.unique()),\n",
    "    # Add the rest of the categorical columns with the lambda function\n",
    "    'Order Item Total': ['sum','median'],\n",
    "    'Order Item Quantity': ['sum']\n",
    "    # Add any additional numerical columns with the appropriate aggregation functions\n",
    "}\n",
    "# Group by 'Order Id' and apply the aggregation functions\n",
    "grouped_df = df.groupby('Order Id').agg(agg_functions).reset_index()\n",
    "grouped_df.columns = ['_'.join(col) if isinstance(col, tuple) else col for col in grouped_df.columns]"
   ]
  },
  {
   "cell_type": "markdown",
   "id": "dcb59966",
   "metadata": {
    "id": "dcb59966",
    "tags": []
   },
   "source": [
    "### PREPROCESSING"
   ]
  },
  {
   "cell_type": "code",
   "execution_count": 13,
   "id": "4bb5776a",
   "metadata": {
    "id": "4bb5776a"
   },
   "outputs": [],
   "source": [
    "import datetime as dt\n",
    "grouped_df['order date (DateOrders)_first'] = pd.to_datetime(grouped_df['order date (DateOrders)_first'])\n",
    "def get_month(x):\n",
    "    return dt.datetime(x.year, x.month, 1)\n",
    "\n",
    "grouped_df['InvoiceMonth'] = grouped_df['order date (DateOrders)_first'].apply(get_month)\n",
    "grouping = grouped_df.groupby('Customer Id_first')['InvoiceMonth']\n",
    "grouped_df['CohortMonth'] = grouping.transform('min')\n",
    "grouping_days = grouped_df.groupby('Customer Id_first')['order date (DateOrders)_first']\n",
    "grouped_df['Cohortdays']  = grouping_days.transform('min')\n",
    "def get_date_int(df, column):\n",
    "    year = df[column].dt.year\n",
    "    month = df[column].dt.month\n",
    "    date = df[column].dt.date\n",
    "    hour = df[column].dt.hour\n",
    "    return year, month, date, hour\n",
    "\n",
    "Invoice_Year, Invoice_Month, Invoice_Day, _ = get_date_int(grouped_df, 'order date (DateOrders)_first')\n",
    "Cohort_Year, Cohort_Month , Cohort_day, _ = get_date_int(grouped_df, 'Cohortdays')\n",
    "Year_Diff = Invoice_Year - Cohort_Year\n",
    "Month_Diff = Invoice_Month - Cohort_Month\n",
    "Day_Diff = Invoice_Day - Cohort_day\n",
    "grouped_df['CohortIndex_months'] = Year_Diff*12 + Month_Diff +1\n",
    "grouped_df['CohortIndex_days'] = Day_Diff.dt.days\n",
    "\n",
    "import pandas as pd\n",
    "from sklearn.preprocessing import MultiLabelBinarizer\n",
    "\n",
    "# Assuming you have a DataFrame named 'grouped_data' with a column 'Category Name' containing comma-separated values\n",
    "# Convert the comma-separated strings to lists\n",
    "grouped_df['Category Name_<lambda>'] = grouped_df['Category Name_<lambda>'].apply(lambda x: x.split(','))\n",
    "\n",
    "from sklearn.preprocessing import MultiLabelBinarizer\n",
    "# Initialize MultiLabelBinarizer\n",
    "mlb = MultiLabelBinarizer()\n",
    "\n",
    "# Fit and transform the 'Category Name' column\n",
    "category_name_encoded = mlb.fit_transform(grouped_df['Category Name_<lambda>'])\n",
    "\n",
    "# Create a new DataFrame with binary features for each unique item in 'Category Name'\n",
    "category_name_df = pd.DataFrame(category_name_encoded, columns=mlb.classes_)\n",
    "\n",
    "# Combine the new binary features with the original DataFrame\n",
    "grouped_df = pd.concat([grouped_df.drop(columns=['Category Name_<lambda>']), category_name_df], axis=1)\n",
    "\n",
    "grouped_df['order date (DateOrders)_first'] = pd.to_datetime(grouped_df['order date (DateOrders)_first'])\n",
    "grouped_df['order date (DateOrders)_first'] = pd.to_datetime(grouped_df['order date (DateOrders)_first'], unit='ms')\n",
    "grouped_df['Order_Month'] = grouped_df['order date (DateOrders)_first'].dt.month\n",
    "grouped_df['Order_Day'] =grouped_df['order date (DateOrders)_first'].dt.day\n",
    "grouped_df['Order_Weekday'] = grouped_df['order date (DateOrders)_first'].dt.dayofweek\n",
    "\n",
    "grouped_df = vaex.from_pandas(df=grouped_df, copy_index=False)\n",
    "grouped_df = vaex.ml.CycleTransformer(features=['Order_Month'], n=12).fit_transform(grouped_df)\n",
    "grouped_df = vaex.ml.CycleTransformer(features=['Order_Day'], n=31).fit_transform(grouped_df)\n",
    "grouped_df = vaex.ml.CycleTransformer(features=['Order_Weekday'], n=7).fit_transform(grouped_df)\n",
    "grouped_df = grouped_df.to_pandas_df()"
   ]
  },
  {
   "cell_type": "code",
   "execution_count": 14,
   "id": "a1800d95",
   "metadata": {
    "id": "a1800d95"
   },
   "outputs": [],
   "source": [
    "class PreprocessDataFrame_classification:\n",
    "    def __init__(self, df):\n",
    "        self.df = df\n",
    "\n",
    "    def add_target_variable(self):\n",
    "        self.df['Is_Fraud'] = self.df['Order Status_first'].apply(lambda x: 1 if x=='SUSPECTED_FRAUD' else 0)\n",
    "        return self.df\n",
    "    \n",
    "    def drop_canceled(self):\n",
    "        self.df = self.df[self.df['Order Status_first'] != 'CANCELED']\n",
    "        return self.df\n",
    "\n",
    "    def process_datetetimes(self):\n",
    "        self.df.order_date_DateOrders = pd.to_datetime(self.df.order_date_DateOrders)\n",
    "        (self.df.order_date_DateOrders.astype(np.int64) / int(1e6)).astype('int64')\n",
    "        return self.df\n",
    "\n",
    "    def augment_with_network_features(self):\n",
    "        self.df['Source'] = ('LA' + self.df['Latitude_first'].astype('str') + '-' + 'LO' + self.df['Longitude_first'].astype('str'))\n",
    "        G = nx.from_pandas_edgelist(self.df, source='Source', target='Order City_first')\n",
    "        self.df['Source_Centrality'] = self.df.Source.map(dict(G.degree))\n",
    "        return self.df\n",
    "\n",
    "grouped_df = PreprocessDataFrame_classification(grouped_df).add_target_variable()\n",
    "grouped_df = PreprocessDataFrame_classification(grouped_df).drop_canceled()\n",
    "grouped_df = PreprocessDataFrame_classification(grouped_df).augment_with_network_features()\n",
    "grouped_df = grouped_df.drop('Order Status_first', axis=1)\n",
    "    \n",
    "X = grouped_df[[i for i in grouped_df.columns if i != 'Is_Fraud']]\n",
    "X = grouped_df.drop(['Order_Month','Order_Day','Order_Weekday', 'order date (DateOrders)_first', 'InvoiceMonth',\n",
    "                    'CohortMonth', 'Cohortdays', 'Is_Fraud', 'Customer Id_first', 'Delivery Status_first', \"Days for shipping (real)_first\"],axis=1)\n",
    "\n",
    "y = grouped_df['Is_Fraud']\n",
    "\n",
    "X_train, X_test, y_train, y_test = train_test_split(X, y, test_size=0.33, stratify=y)\n",
    "\n",
    "X_train = vaex.from_pandas(df=X_train, copy_index=False)\n",
    "X_test = vaex.from_pandas(df=X_test, copy_index=False)\n",
    "ohe = vaex.ml.OneHotEncoder(features=[\"Type_first\", \n",
    "                                      \"Customer Segment_first\",'Shipping Mode_first'])\n",
    "X_train = ohe.fit_transform(df=X_train)\n",
    "X_test = ohe.transform(X_test)\n",
    "\n",
    "mhe = vaex.ml.MultiHotEncoder(features=[\"Order City_first\", \"Customer City_first\", 'Order State_first', 'Customer State_first'])\n",
    "X_train = mhe.fit_transform(df=X_train)\n",
    "X_test = mhe.transform(X_test)\n",
    "\n",
    "X_train = X_train.to_pandas_df()\n",
    "X_test = X_test.to_pandas_df()\n",
    "\n",
    "X_train = X_train[X_train.dtypes[X_train.dtypes != 'object'].index.tolist()]\n",
    "X_test = X_test[X_test.dtypes[X_test.dtypes != 'object'].index.tolist()]"
   ]
  },
  {
   "cell_type": "markdown",
   "id": "6e8f0098",
   "metadata": {
    "id": "6e8f0098",
    "jp-MarkdownHeadingCollapsed": true,
    "tags": []
   },
   "source": [
    "## Data Augmentation techniques"
   ]
  },
  {
   "cell_type": "code",
   "execution_count": 17,
   "id": "82074aa0",
   "metadata": {
    "id": "82074aa0"
   },
   "outputs": [],
   "source": [
    "from imblearn.under_sampling import RandomUnderSampler\n",
    "from imblearn.over_sampling import RandomOverSampler \n",
    "from imblearn.over_sampling import SMOTE\n",
    "from imblearn.over_sampling import BorderlineSMOTE\n",
    "from imblearn.over_sampling import SVMSMOTE \n",
    "from imblearn.over_sampling import KMeansSMOTE"
   ]
  },
  {
   "cell_type": "markdown",
   "id": "7729a9cf",
   "metadata": {
    "id": "7729a9cf",
    "tags": []
   },
   "source": [
    "#### UNDERSAMPLING"
   ]
  },
  {
   "cell_type": "code",
   "execution_count": 18,
   "id": "54a14ba4",
   "metadata": {
    "id": "54a14ba4"
   },
   "outputs": [],
   "source": [
    "undersampler = RandomUnderSampler(sampling_strategy='majority')\n",
    "X_resampled, y_resampled = undersampler.fit_resample(X_train, y_train)"
   ]
  },
  {
   "cell_type": "code",
   "execution_count": 19,
   "id": "7b7b6c77",
   "metadata": {
    "colab": {
     "base_uri": "https://localhost:8080/"
    },
    "id": "7b7b6c77",
    "outputId": "505432a2-dfc4-4774-d4f8-e6d2d862c8db"
   },
   "outputs": [
    {
     "name": "stdout",
     "output_type": "stream",
     "text": [
      "              precision    recall  f1-score   support\n",
      "\n",
      "           0       1.00      0.77      0.87     20757\n",
      "           1       0.09      0.94      0.16       491\n",
      "\n",
      "    accuracy                           0.77     21248\n",
      "   macro avg       0.54      0.85      0.51     21248\n",
      "weighted avg       0.98      0.77      0.85     21248\n",
      "\n"
     ]
    }
   ],
   "source": [
    "from xgboost import XGBClassifier\n",
    "xgb= XGBClassifier()\n",
    "xgb.fit(X_resampled, y_resampled)\n",
    "y_pred = xgb.predict(X_test)\n",
    "print(classification_report(y_test, y_pred))"
   ]
  },
  {
   "cell_type": "code",
   "execution_count": 20,
   "id": "20c400e9",
   "metadata": {
    "colab": {
     "base_uri": "https://localhost:8080/"
    },
    "id": "20c400e9",
    "outputId": "905ce22a-2cf1-46e9-a0c7-ebffef0f144d"
   },
   "outputs": [
    {
     "name": "stdout",
     "output_type": "stream",
     "text": [
      "              precision    recall  f1-score   support\n",
      "\n",
      "           0       1.00      0.75      0.86     20757\n",
      "           1       0.09      1.00      0.16       491\n",
      "\n",
      "    accuracy                           0.76     21248\n",
      "   macro avg       0.54      0.88      0.51     21248\n",
      "weighted avg       0.98      0.76      0.84     21248\n",
      "\n"
     ]
    }
   ],
   "source": [
    "rf = RandomForestClassifier(random_state = 42, max_depth = 4)\n",
    "rf.fit(X_resampled, y_resampled)\n",
    "y_pred = rf.predict(X_test)\n",
    "print(classification_report(y_test, y_pred))"
   ]
  },
  {
   "cell_type": "code",
   "execution_count": 22,
   "id": "J52jEodibBfz",
   "metadata": {
    "id": "J52jEodibBfz"
   },
   "outputs": [],
   "source": [
    "X_resampled.to_csv(\"undersample_X.csv\", index=False)\n",
    "y_resampled.to_csv(\"undersample_y.csv\", index=False)"
   ]
  },
  {
   "cell_type": "markdown",
   "id": "cc393e8b",
   "metadata": {
    "id": "cc393e8b"
   },
   "source": [
    "##### OVERSAMPLING"
   ]
  },
  {
   "cell_type": "code",
   "execution_count": 23,
   "id": "8caf2137",
   "metadata": {
    "id": "8caf2137"
   },
   "outputs": [],
   "source": [
    "random_os = RandomOverSampler(random_state = 42)\n",
    "X_random, y_random = random_os.fit_resample(X_train, y_train)"
   ]
  },
  {
   "cell_type": "code",
   "execution_count": 24,
   "id": "47ccd202",
   "metadata": {
    "colab": {
     "base_uri": "https://localhost:8080/"
    },
    "id": "47ccd202",
    "outputId": "07fa1943-7c0b-42e3-fcff-ef7a2deeac9b"
   },
   "outputs": [
    {
     "name": "stdout",
     "output_type": "stream",
     "text": [
      "              precision    recall  f1-score   support\n",
      "\n",
      "           0       0.98      0.93      0.96     20757\n",
      "           1       0.08      0.26      0.13       491\n",
      "\n",
      "    accuracy                           0.92     21248\n",
      "   macro avg       0.53      0.60      0.54     21248\n",
      "weighted avg       0.96      0.92      0.94     21248\n",
      "\n"
     ]
    }
   ],
   "source": [
    "from xgboost import XGBClassifier\n",
    "xgb= XGBClassifier()\n",
    "xgb.fit(X_random, y_random)\n",
    "y_pred = xgb.predict(X_test)\n",
    "print(classification_report(y_test, y_pred))"
   ]
  },
  {
   "cell_type": "code",
   "execution_count": 25,
   "id": "e81b1bf8",
   "metadata": {
    "colab": {
     "base_uri": "https://localhost:8080/"
    },
    "id": "e81b1bf8",
    "outputId": "9a7394ae-fbbd-4904-e774-d8bd3c822d3f"
   },
   "outputs": [
    {
     "name": "stdout",
     "output_type": "stream",
     "text": [
      "              precision    recall  f1-score   support\n",
      "\n",
      "           0       0.98      0.93      0.96     20757\n",
      "           1       0.08      0.26      0.13       491\n",
      "\n",
      "    accuracy                           0.92     21248\n",
      "   macro avg       0.53      0.60      0.54     21248\n",
      "weighted avg       0.96      0.92      0.94     21248\n",
      "\n"
     ]
    }
   ],
   "source": [
    "print(classification_report(y_test, y_pred))"
   ]
  },
  {
   "cell_type": "code",
   "execution_count": 27,
   "id": "KBuOXcOLbm8t",
   "metadata": {
    "id": "KBuOXcOLbm8t"
   },
   "outputs": [],
   "source": [
    "X_random.to_csv(\"oversample_X.csv\", index=False)\n",
    "y_random.to_csv(\"oversample_y.csv\", index=False)"
   ]
  },
  {
   "cell_type": "markdown",
   "id": "b13894f9",
   "metadata": {
    "id": "b13894f9",
    "jp-MarkdownHeadingCollapsed": true,
    "tags": []
   },
   "source": [
    "#### SMOTE"
   ]
  },
  {
   "cell_type": "code",
   "execution_count": 28,
   "id": "6aaaaaae",
   "metadata": {
    "id": "6aaaaaae"
   },
   "outputs": [],
   "source": [
    "smote_os = SMOTE(random_state = 42)\n",
    "X_smote, y_smote = smote_os.fit_resample(X_train, y_train)"
   ]
  },
  {
   "cell_type": "code",
   "execution_count": 29,
   "id": "39201d94",
   "metadata": {
    "colab": {
     "base_uri": "https://localhost:8080/"
    },
    "id": "39201d94",
    "outputId": "d4cec584-9394-42e6-e0a4-5fac1d7cf61f"
   },
   "outputs": [
    {
     "name": "stdout",
     "output_type": "stream",
     "text": [
      "              precision    recall  f1-score   support\n",
      "\n",
      "           0       0.98      1.00      0.99     20757\n",
      "           1       0.06      0.01      0.02       491\n",
      "\n",
      "    accuracy                           0.97     21248\n",
      "   macro avg       0.52      0.50      0.50     21248\n",
      "weighted avg       0.96      0.97      0.96     21248\n",
      "\n"
     ]
    }
   ],
   "source": [
    "from xgboost import XGBClassifier\n",
    "xgb= XGBClassifier()\n",
    "xgb.fit(X_smote, y_smote)\n",
    "y_pred = xgb.predict(X_test)\n",
    "print(classification_report(y_test, y_pred))"
   ]
  },
  {
   "cell_type": "code",
   "execution_count": 30,
   "id": "16d45c7a",
   "metadata": {
    "colab": {
     "base_uri": "https://localhost:8080/"
    },
    "id": "16d45c7a",
    "outputId": "0ea6c0bd-e6fc-47b9-c4c5-6d2d507b63b7"
   },
   "outputs": [
    {
     "name": "stdout",
     "output_type": "stream",
     "text": [
      "              precision    recall  f1-score   support\n",
      "\n",
      "           0       0.98      1.00      0.99     20757\n",
      "           1       0.10      0.01      0.01       491\n",
      "\n",
      "    accuracy                           0.98     21248\n",
      "   macro avg       0.54      0.50      0.50     21248\n",
      "weighted avg       0.96      0.98      0.97     21248\n",
      "\n"
     ]
    }
   ],
   "source": [
    "rf = RandomForestClassifier(random_state = 42, criterion= 'entropy', max_depth = 80,\n",
    "                          min_samples_leaf=1,)\n",
    "rf.fit(X_smote, y_smote)\n",
    "y_pred = rf.predict(X_test)\n",
    "print(classification_report(y_test, y_pred))"
   ]
  },
  {
   "cell_type": "code",
   "execution_count": 31,
   "id": "LkFXAIkFcPJk",
   "metadata": {
    "id": "LkFXAIkFcPJk"
   },
   "outputs": [],
   "source": [
    "X_smote.to_csv(\"oversample_X.csv\", index=False)\n",
    "y_smote.to_csv(\"oversample_y.csv\", index=False)"
   ]
  },
  {
   "cell_type": "markdown",
   "id": "ef0a1a94",
   "metadata": {
    "id": "ef0a1a94",
    "jp-MarkdownHeadingCollapsed": true,
    "tags": []
   },
   "source": [
    "#### OVERSAMPLING: BORDERLINESMOTE"
   ]
  },
  {
   "cell_type": "code",
   "execution_count": 34,
   "id": "0b9d8cce",
   "metadata": {
    "id": "0b9d8cce"
   },
   "outputs": [],
   "source": [
    "smote_border = BorderlineSMOTE(random_state = 42, kind = 'borderline-2')\n",
    "X_smoteborder, y_smoteborder = smote_border.fit_resample(X_train, y_train)"
   ]
  },
  {
   "cell_type": "code",
   "execution_count": 37,
   "id": "76587eb7",
   "metadata": {
    "id": "76587eb7"
   },
   "outputs": [],
   "source": [
    "X_smoteborder.to_csv(\"smoteborder_X1.csv\", index=False)\n",
    "y_smoteborder.to_csv(\"smoteborder_y1.csv\", index=False)"
   ]
  },
  {
   "cell_type": "code",
   "execution_count": 35,
   "id": "17c848a7",
   "metadata": {
    "colab": {
     "base_uri": "https://localhost:8080/"
    },
    "id": "17c848a7",
    "outputId": "0bc431a1-133f-4c5d-ba51-247c208bef70"
   },
   "outputs": [
    {
     "name": "stdout",
     "output_type": "stream",
     "text": [
      "              precision    recall  f1-score   support\n",
      "\n",
      "           0       0.99      0.88      0.93     20757\n",
      "           1       0.09      0.51      0.15       491\n",
      "\n",
      "    accuracy                           0.87     21248\n",
      "   macro avg       0.54      0.69      0.54     21248\n",
      "weighted avg       0.97      0.87      0.91     21248\n",
      "\n"
     ]
    }
   ],
   "source": [
    "rf = RandomForestClassifier(random_state = 42, max_depth = 3, criterion= 'gini')\n",
    "rf.fit(X_smoteborder, y_smoteborder)\n",
    "y_pred = rf.predict(X_test)\n",
    "print(classification_report(y_test, y_pred))"
   ]
  },
  {
   "cell_type": "code",
   "execution_count": 36,
   "id": "26c9c328",
   "metadata": {
    "colab": {
     "base_uri": "https://localhost:8080/"
    },
    "id": "26c9c328",
    "outputId": "1d86a8e9-a5c3-4f5e-fccb-6ca6231d76b4"
   },
   "outputs": [
    {
     "name": "stdout",
     "output_type": "stream",
     "text": [
      "              precision    recall  f1-score   support\n",
      "\n",
      "           0       0.98      0.95      0.96     20757\n",
      "           1       0.10      0.24      0.14       491\n",
      "\n",
      "    accuracy                           0.93     21248\n",
      "   macro avg       0.54      0.59      0.55     21248\n",
      "weighted avg       0.96      0.93      0.95     21248\n",
      "\n"
     ]
    }
   ],
   "source": [
    "rf = RandomForestClassifier(random_state = 42, criterion= 'gini',max_depth = 6,\n",
    "                          min_samples_leaf=1,\n",
    "                          n_jobs=-1)\n",
    "                          #min_samples_leaf=6,\n",
    "                          #max_features=3)\n",
    "rf.fit(X_smoteborder, y_smoteborder)\n",
    "y_pred = rf.predict(X_test)\n",
    "print(classification_report(y_test, y_pred))"
   ]
  },
  {
   "cell_type": "code",
   "execution_count": null,
   "id": "7821b0e1",
   "metadata": {
    "id": "7821b0e1"
   },
   "outputs": [],
   "source": [
    "from sklearn.model_selection import RandomizedSearchCV\n",
    "# Define the Random Forest model\n",
    "rf_search = RandomForestClassifier(random_state=42)\n",
    "\n",
    "# Define the hyperparameters to search over\n",
    "param_distributions = {\n",
    "    'n_estimators': np.arange(100, 1000, 100),\n",
    "    'max_depth': [None] + list(np.arange(5, 30, 5)),\n",
    "    'min_samples_split': [2, 5, 10],\n",
    "    'min_samples_leaf': [1, 2, 4],\n",
    "#    'bootstrap': [True, False],\n",
    "    'max_features': ['auto', 'sqrt', 'log2', None]\n",
    "}\n",
    "\n",
    "# Use RandomizedSearchCV to search over the hyperparameters\n",
    "random_search = RandomizedSearchCV(rf_search, param_distributions, n_iter=100, cv=3, scoring='neg_mean_absolute_error', random_state=42)\n",
    "random_search.fit(X_smoteborder, y_smoteborder)\n",
    "\n",
    "# Print the best hyperparameters and R2 score\n",
    "print(\"Best Hyperparameters:\", random_search.best_params_)\n",
    "#print(\"Best R2 Score on train set: \", random_search.best_score_)"
   ]
  },
  {
   "cell_type": "code",
   "execution_count": 38,
   "id": "e1bfc3e1",
   "metadata": {
    "colab": {
     "base_uri": "https://localhost:8080/"
    },
    "id": "e1bfc3e1",
    "outputId": "7972c95a-55db-4808-cc60-02ae57bece66"
   },
   "outputs": [
    {
     "name": "stdout",
     "output_type": "stream",
     "text": [
      "              precision    recall  f1-score   support\n",
      "\n",
      "           0       0.98      1.00      0.99     20757\n",
      "           1       0.07      0.01      0.02       491\n",
      "\n",
      "    accuracy                           0.97     21248\n",
      "   macro avg       0.52      0.50      0.50     21248\n",
      "weighted avg       0.96      0.97      0.96     21248\n",
      "\n"
     ]
    }
   ],
   "source": [
    "from xgboost import XGBClassifier\n",
    "xgb= XGBClassifier()\n",
    "xgb.fit(X_smoteborder, y_smoteborder)\n",
    "y_pred = xgb.predict(X_test)\n",
    "print(classification_report(y_test, y_pred))"
   ]
  },
  {
   "cell_type": "markdown",
   "id": "e4083981",
   "metadata": {
    "id": "e4083981",
    "jp-MarkdownHeadingCollapsed": true,
    "tags": []
   },
   "source": [
    "#### SVM SMOTE"
   ]
  },
  {
   "cell_type": "code",
   "execution_count": 39,
   "id": "46599647",
   "metadata": {
    "id": "46599647"
   },
   "outputs": [],
   "source": [
    "smote_svm = SVMSMOTE(random_state = 42)\n",
    "X_smotesvm, y_smotesvm = smote_svm.fit_resample(X_train, y_train)"
   ]
  },
  {
   "cell_type": "code",
   "execution_count": null,
   "id": "aQxkrfPmdeg3",
   "metadata": {
    "id": "aQxkrfPmdeg3"
   },
   "outputs": [],
   "source": [
    "X_smotesvm.to_csv(\"smotesvm_X.csv\", index=False)\n",
    "y_smotesvm.to_csv(\"smotesvm_y.csv\", index=False)"
   ]
  },
  {
   "cell_type": "code",
   "execution_count": 40,
   "id": "fb07cbdb",
   "metadata": {
    "colab": {
     "base_uri": "https://localhost:8080/"
    },
    "id": "fb07cbdb",
    "outputId": "8a337b15-166f-4960-9d71-04d54bc41354"
   },
   "outputs": [
    {
     "name": "stdout",
     "output_type": "stream",
     "text": [
      "              precision    recall  f1-score   support\n",
      "\n",
      "           0       0.98      0.98      0.98     20757\n",
      "           1       0.12      0.09      0.11       491\n",
      "\n",
      "    accuracy                           0.96     21248\n",
      "   macro avg       0.55      0.54      0.54     21248\n",
      "weighted avg       0.96      0.96      0.96     21248\n",
      "\n"
     ]
    }
   ],
   "source": [
    "rf = RandomForestClassifier(random_state = 42, max_depth = 3)\n",
    "rf.fit(X_smotesvm, y_smotesvm)\n",
    "y_pred = rf.predict(X_test)\n",
    "print(classification_report(y_test, y_pred))"
   ]
  },
  {
   "cell_type": "code",
   "execution_count": 41,
   "id": "68043553",
   "metadata": {
    "colab": {
     "base_uri": "https://localhost:8080/"
    },
    "id": "68043553",
    "outputId": "a8a6f308-5809-42bf-b21f-c8ef1e6c38c4"
   },
   "outputs": [
    {
     "name": "stdout",
     "output_type": "stream",
     "text": [
      "              precision    recall  f1-score   support\n",
      "\n",
      "           0       0.98      1.00      0.99     20757\n",
      "           1       0.11      0.01      0.03       491\n",
      "\n",
      "    accuracy                           0.97     21248\n",
      "   macro avg       0.54      0.51      0.51     21248\n",
      "weighted avg       0.96      0.97      0.96     21248\n",
      "\n"
     ]
    }
   ],
   "source": [
    "from xgboost import XGBClassifier\n",
    "xgb= XGBClassifier()\n",
    "xgb.fit(X_smotesvm, y_smotesvm)\n",
    "y_pred = xgb.predict(X_test)\n",
    "print(classification_report(y_test, y_pred))"
   ]
  },
  {
   "cell_type": "markdown",
   "id": "205829d6-ba26-4b3d-95b1-99e3cc75bb89",
   "metadata": {
    "id": "205829d6-ba26-4b3d-95b1-99e3cc75bb89",
    "tags": []
   },
   "source": [
    "## SDV SYNTHETIC DATA"
   ]
  },
  {
   "cell_type": "markdown",
   "id": "aff7c926",
   "metadata": {
    "id": "aff7c926"
   },
   "source": [
    "This dataset is made of agumented features. The dataset was completed thanks to the usage of the Synthetic Data Vault, an open-source python library that allows the generation of data thanks to the usage of Conditional GANs"
   ]
  },
  {
   "cell_type": "markdown",
   "id": "c61b034a-9692-44ab-bca8-de0b44462efd",
   "metadata": {
    "tags": []
   },
   "source": [
    "### Data augmentation with CTGans only on the suspected frauds samples from the original dataset"
   ]
  },
  {
   "cell_type": "code",
   "execution_count": null,
   "id": "5feb2452-4685-4deb-a09c-32942cbc73d0",
   "metadata": {},
   "outputs": [],
   "source": [
    "from sdv.metadata import SingleTableMetadata\n",
    "from sdv.lite import SingleTablePreset\n",
    "from sdv.metadata import SingleTableMetadata\n",
    "from sdv.single_table import CTGANSynthesizer"
   ]
  },
  {
   "cell_type": "code",
   "execution_count": null,
   "id": "d4015cba-120f-4b3d-a815-c7317ea4e15c",
   "metadata": {},
   "outputs": [],
   "source": [
    "agg_functions = {\n",
    "    'Type': 'first',\n",
    "    'Order Status': 'first',\n",
    "    'Order City': 'first',\n",
    "    'Customer City':'first',\n",
    "    'Order State': 'first',\n",
    "    'Customer State':'first',\n",
    "    'Delivery Status': 'first',\n",
    "    'Shipping Mode':'first',\n",
    "   'Days for shipping (real)': 'first',\n",
    "    'Days for shipping (real)' :'first',\n",
    "    'order date (DateOrders)': 'first',\n",
    "    'Benefit per order': ['sum', 'median'],\n",
    "    'Order Item Discount Rate': 'median',\n",
    "    'Customer Segment': 'first',\n",
    "    'Customer Id': 'first',\n",
    "    'Latitude': 'first',\n",
    "    'Longitude': 'first',\n",
    "    #'Category Id': lambda x: ','.join(x.unique()),\n",
    "    'Category Name': lambda x: ','.join(x.unique()),\n",
    "    # Add the rest of the categorical columns with the lambda function\n",
    "    'Order Item Total': ['sum','median'],\n",
    "    'Order Item Quantity': ['sum']\n",
    "    # Add any additional numerical columns with the appropriate aggregation functions\n",
    "}\n",
    "# Group by 'Order Id' and apply the aggregation functions\n",
    "grouped_df = df.groupby('Order Id').agg(agg_functions).reset_index()\n",
    "\n",
    "# Flatten the MultiIndex columns\n",
    "grouped_df.columns = ['_'.join(col) if isinstance(col, tuple) else col for col in grouped_df.columns]\n",
    "\n",
    "def get_month(x):\n",
    "    return dt.datetime(x.year, x.month, 1)\n",
    "\n",
    "grouped_df['order date (DateOrders)_first'] = pd.to_datetime(grouped_df['order date (DateOrders)_first'])\n",
    "grouped_df['order date (DateOrders)_first'] = pd.to_datetime(grouped_df['order date (DateOrders)_first'], unit='ms')\n",
    "grouped_df['Order_Month'] = grouped_df['order date (DateOrders)_first'].dt.month\n",
    "grouped_df['Order_Day'] =grouped_df['order date (DateOrders)_first'].dt.day\n",
    "grouped_df['Order_Weekday'] = grouped_df['order date (DateOrders)_first'].dt.dayofweek    \n",
    "grouped_df['InvoiceMonth'] = grouped_df['order date (DateOrders)_first'].apply(get_month)\n",
    "\n",
    "grouping = grouped_df.groupby('Customer Id_first')['InvoiceMonth']\n",
    "grouped_df['CohortMonth'] = grouping.transform('min')\n",
    "grouping_days = grouped_df.groupby('Customer Id_first')['order date (DateOrders)_first']\n",
    "grouped_df['Cohortdays']  = grouping_days.transform('min')\n",
    "def get_date_int(df, column):\n",
    "    year = df[column].dt.year\n",
    "    month = df[column].dt.month\n",
    "    date = df[column].dt.date\n",
    "    hour = df[column].dt.hour\n",
    "    return year, month, date, hour\n",
    "\n",
    "Invoice_Year, Invoice_Month, Invoice_Day, _ = get_date_int(grouped_df, 'order date (DateOrders)_first')\n",
    "Cohort_Year, Cohort_Month , Cohort_day, _ = get_date_int(grouped_df, 'Cohortdays')\n",
    "Year_Diff = Invoice_Year - Cohort_Year\n",
    "Month_Diff = Invoice_Month - Cohort_Month\n",
    "Day_Diff = Invoice_Day - Cohort_day\n",
    "\n",
    "\n",
    "\n",
    "grouped_df['CohortIndex_months'] = Year_Diff*12 + Month_Diff +1\n",
    "grouped_df['CohortIndex_days'] = Day_Diff.dt.days\n",
    "grouped_df = vaex.from_pandas(df=grouped_df, copy_index=False)\n",
    "grouped_df = vaex.ml.CycleTransformer(features=['Order_Month'], n=12).fit_transform(grouped_df)\n",
    "grouped_df = vaex.ml.CycleTransformer(features=['Order_Day'], n=31).fit_transform(grouped_df)\n",
    "grouped_df = vaex.ml.CycleTransformer(features=['Order_Weekday'], n=7).fit_transform(grouped_df)\n",
    "grouped_df = grouped_df.to_pandas_df()\n",
    "grouped_df['Source'] = ('LA' + grouped_df['Latitude_first'].astype('str') + '-' + 'LO' + grouped_df['Longitude_first'].astype('str'))\n",
    "G = nx.from_pandas_edgelist(grouped_df, source='Source', target='Order City_first')\n",
    "grouped_df['Source_Centrality'] = grouped_df.Source.map(dict(G.degree))\n",
    "df_to_aug = grouped_df.drop(['order date (DateOrders)_first', 'InvoiceMonth', 'CohortMonth', 'Cohortdays', 'Customer Id_first', 'Order Id_', 'Latitude_first', 'Longitude_first'],  axis=1)"
   ]
  },
  {
   "cell_type": "code",
   "execution_count": null,
   "id": "b6016613-9c4d-4d01-821f-3e9f55e8c6c0",
   "metadata": {},
   "outputs": [],
   "source": [
    "#This code snippet is for processing a dataset related to transactions and generating synthetic data using the CTGAN (Conditional Tabular Generative Adversarial Networks) Synthesizer\n",
    "\n",
    "#Slice the dataset to select only the transactions marked as suspected frauds:\n",
    "df_to_en = df_to_aug[df_to_aug['Order Status_first'] == 'SUSPECTED_FRAUD']\n",
    "\n",
    "#Create a SingleTableMetadata object for managing metadata of the dataset:\n",
    "metadata = SingleTableMetadata()\n",
    "#Automatically detect metadata from the sliced dataframe containing only suspected fraud transactions:\n",
    "metadata.detect_from_dataframe(data=df_to_en)\n",
    "\n",
    "#Initialize the CTGAN Synthesizer with the detected metadata:\n",
    "synthesizer = CTGANSynthesizer(metadata)\n",
    "\n",
    "#Train the CTGAN Synthesizer on the sliced dataframe:\n",
    "synthesizer.fit(df_to_en)\n",
    "\n",
    "#Create another SingleTableMetadata object for the entire dataset:\n",
    "metadata = SingleTableMetadata()\n",
    "\n",
    "#Automatically detect metadata from the entire dataframe:\n",
    "metadata.detect_from_dataframe(data=df_to_aug)\n",
    "\n",
    "#Initialize the SingleTablePreset with the detected metadata and a preset name 'FAST_ML':\n",
    "synthesizer = SingleTablePreset(metadata, name='FAST_ML')\n",
    "\n",
    "#Train the SingleTablePreset on the entire dataframe:\n",
    "synthesizer.fit(df_to_aug)"
   ]
  },
  {
   "cell_type": "code",
   "execution_count": null,
   "id": "e87df7ae-66ed-4e88-9a23-44d532a06272",
   "metadata": {},
   "outputs": [],
   "source": [
    "#After fitting the model, we can now generate new samples \n",
    "synthetic_data = synthesizer.sample(\n",
    "    num_rows=60_000,\n",
    "    batch_size=1_000\n",
    ")\n",
    "#It is now possible to exmport the gnerated data in a csv format, so that we can later merge it with the original data. "
   ]
  },
  {
   "cell_type": "code",
   "execution_count": 2,
   "id": "4879a379",
   "metadata": {
    "id": "4879a379"
   },
   "outputs": [],
   "source": [
    "#Now we can import the augmented frauds dataset\n",
    "synthetic_data = pd.read_csv(r\"new_fraud_only.csv\").drop('Unnamed: 0', axis=1)"
   ]
  },
  {
   "cell_type": "code",
   "execution_count": 3,
   "id": "568156a2",
   "metadata": {
    "id": "568156a2"
   },
   "outputs": [],
   "source": [
    "#importing original dataset\n",
    "df = pd.read_csv(r\"SupplyChainDataset.csv\", encoding='latin-1')"
   ]
  },
  {
   "cell_type": "code",
   "execution_count": 4,
   "id": "a77a2446",
   "metadata": {
    "id": "a77a2446"
   },
   "outputs": [],
   "source": [
    "#transforming the original dataset into a grouped dataset\n",
    "#to keek the unique numeric information for each order Id, we can substitue them with theri sum and median values. \n",
    "agg_functions = {\n",
    "    'Type': 'first',\n",
    "    'Order Status': 'first',\n",
    "    'Order City': 'first',\n",
    "    'Customer City':'first',\n",
    "    'Order State': 'first',\n",
    "    'Customer State':'first',\n",
    "    'Delivery Status': 'first',\n",
    "    'Shipping Mode':'first',\n",
    "    'Days for shipping (real)': 'first',\n",
    "    'order date (DateOrders)': 'first',\n",
    "    'Benefit per order': ['sum', 'median'],\n",
    "    'Order Item Discount Rate': 'median',\n",
    "    'Customer Segment': 'first',\n",
    "    'Customer Id': 'first',\n",
    "    'Latitude': 'first',\n",
    "    'Longitude': 'first',\n",
    "    #'Category Id': lambda x: ','.join(x.unique()),\n",
    "    'Category Name': lambda x: ','.join(x.unique()),\n",
    "    # Add the rest of the categorical columns with the lambda function\n",
    "    'Order Item Total': ['sum','median'],\n",
    "    'Order Item Quantity': ['sum']\n",
    "    # Add any additional numerical columns with the appropriate aggregation functions\n",
    "}\n",
    "# Group by 'Order Id' and apply the aggregation functions\n",
    "grouped_df = df.groupby('Order Id').agg(agg_functions).reset_index()\n",
    "grouped_df.columns = ['_'.join(col) if isinstance(col, tuple) else col for col in grouped_df.columns]\n",
    "grouped_df['order date (DateOrders)_first'] = pd.to_datetime(grouped_df['order date (DateOrders)_first'])\n",
    "grouped_df['order date (DateOrders)_first'] = pd.to_datetime(grouped_df['order date (DateOrders)_first'], unit='ms')\n",
    "grouped_df['Order_Month'] = grouped_df['order date (DateOrders)_first'].dt.month\n",
    "grouped_df['Order_Day'] =grouped_df['order date (DateOrders)_first'].dt.day\n",
    "grouped_df['Order_Weekday'] = grouped_df['order date (DateOrders)_first'].dt.dayofweek\n",
    "grouped_df = vaex.from_pandas(df=grouped_df, copy_index=False)\n",
    "grouped_df = vaex.ml.CycleTransformer(features=['Order_Month'], n=12).fit_transform(grouped_df)\n",
    "grouped_df = vaex.ml.CycleTransformer(features=['Order_Day'], n=31).fit_transform(grouped_df)\n",
    "grouped_df = vaex.ml.CycleTransformer(features=['Order_Weekday'], n=7).fit_transform(grouped_df)\n",
    "grouped_df = grouped_df.to_pandas_df()"
   ]
  },
  {
   "cell_type": "code",
   "execution_count": 5,
   "id": "761be43f",
   "metadata": {
    "id": "761be43f"
   },
   "outputs": [],
   "source": [
    "# transforming the order date into datetime format\n",
    "grouped_df['order date (DateOrders)_first'] = pd.to_datetime(grouped_df['order date (DateOrders)_first'])\n",
    "\n",
    "#feature engeneering\n",
    "#functions to add columns regard the recency of the order\n",
    "def get_month(x):\n",
    "    return dt.datetime(x.year, x.month, 1)\n",
    "\n",
    "grouped_df['InvoiceMonth'] = grouped_df['order date (DateOrders)_first'].apply(get_month)\n",
    "grouping = grouped_df.groupby('Customer Id_first')['InvoiceMonth']\n",
    "grouped_df['CohortMonth'] = grouping.transform('min')\n",
    "grouping_days = grouped_df.groupby('Customer Id_first')['order date (DateOrders)_first']\n",
    "grouped_df['Cohortdays']  = grouping_days.transform('min')\n",
    "\n",
    "def get_date_int(df, column):\n",
    "    year = df[column].dt.year\n",
    "    month = df[column].dt.month\n",
    "    date = df[column].dt.date\n",
    "    hour = df[column].dt.hour\n",
    "    return year, month, date, hour\n",
    "\n",
    "Invoice_Year, Invoice_Month, Invoice_Day, _ = get_date_int(grouped_df, 'order date (DateOrders)_first')\n",
    "Cohort_Year, Cohort_Month , Cohort_day, _ = get_date_int(grouped_df, 'Cohortdays')\n",
    "Year_Diff = Invoice_Year - Cohort_Year\n",
    "Month_Diff = Invoice_Month - Cohort_Month\n",
    "Day_Diff = Invoice_Day - Cohort_day\n",
    "grouped_df['CohortIndex_months'] = Year_Diff*12 + Month_Diff +1\n",
    "grouped_df['CohortIndex_days'] = Day_Diff.dt.days"
   ]
  },
  {
   "cell_type": "code",
   "execution_count": 6,
   "id": "44cf85a1",
   "metadata": {
    "id": "44cf85a1"
   },
   "outputs": [],
   "source": [
    "from sklearn.preprocessing import MultiLabelBinarizer\n",
    "\n",
    "# Initialize MultiLabelBinarizer\n",
    "mlb = MultiLabelBinarizer()\n",
    "# Function to preprocess the dataframes\n",
    "def preprocess_dataframe(df):\n",
    "    \n",
    "    df_preprocessed = df.copy()\n",
    "    df_preprocessed['Category Name_<lambda>'] = df_preprocessed['Category Name_<lambda>'].apply(lambda x: x.split(','))\n",
    "    category_name_encoded = mlb.fit_transform(df_preprocessed['Category Name_<lambda>'])\n",
    "    category_name_df = pd.DataFrame(category_name_encoded, columns=mlb.classes_)\n",
    "    df_preprocessed = pd.concat([df_preprocessed.drop(columns=['Category Name_<lambda>']), category_name_df], axis=1)\n",
    "\n",
    "    df_preprocessed['Is_Fraud'] = df_preprocessed['Order Status_first'].apply(lambda x: 1 if x=='SUSPECTED_FRAUD' else 0)\n",
    "    df_preprocessed = df_preprocessed.drop('Order Status_first', axis=1)\n",
    "    df_preprocessed['Source'] = ('LA' + df_preprocessed['Latitude_first'].astype('str') + '-' + 'LO' + df_preprocessed['Longitude_first'].astype('str'))\n",
    "    G = nx.from_pandas_edgelist(df_preprocessed, source='Source', target='Order City_first')\n",
    "    df_preprocessed['Source_Centrality'] = df_preprocessed.Source.map(dict(G.degree))\n",
    "    \n",
    "    return df_preprocessed\n",
    "\n",
    "def preprocess_syntetic(df):\n",
    "    \n",
    "    df_preprocessed = df.copy()\n",
    "    df_preprocessed['Category Name_<lambda>'] = df_preprocessed['Category Name_<lambda>'].apply(lambda x: x.split(','))\n",
    "    category_name_encoded = mlb.fit_transform(df_preprocessed['Category Name_<lambda>'])\n",
    "    category_name_df = pd.DataFrame(category_name_encoded, columns=mlb.classes_)\n",
    "    df_preprocessed = pd.concat([df_preprocessed.drop(columns=['Category Name_<lambda>']), category_name_df], axis=1)\n",
    "\n",
    "    df_preprocessed['Is_Fraud'] = df_preprocessed['Order Status_first'].apply(lambda x: 1 if x=='SUSPECTED_FRAUD' else 0)\n",
    "    df_preprocessed = df_preprocessed.drop('Order Status_first', axis=1)\n",
    "    return df_preprocessed\n",
    "\n",
    "# Preprocess both dataframes\n",
    "df_to_en_preprocessed = preprocess_dataframe(grouped_df)\n",
    "synthetic_data_preprocessed = preprocess_syntetic(synthetic_data)"
   ]
  },
  {
   "cell_type": "code",
   "execution_count": 7,
   "id": "1850785b",
   "metadata": {
    "id": "1850785b"
   },
   "outputs": [],
   "source": [
    "# Split the original dataset into train and test sets\n",
    "X_original = df_to_en_preprocessed.drop(['Order_Month','Order_Day','Order_Weekday', 'Order Id_', 'Customer Id_first', 'Days for shipping (real)_first', 'Latitude_first', 'Longitude_first',\n",
    "                   'Delivery Status_first', 'Order State_first', 'Customer State_first', 'Is_Fraud', 'order date (DateOrders)_first', 'InvoiceMonth', 'CohortMonth', 'Cohortdays'], axis=1)\n",
    "y_original = df_to_en_preprocessed['Is_Fraud']\n",
    "\n",
    "X_train_original, X_test, y_train_original, y_test = train_test_split(X_original, y_original, test_size=0.33, stratify=y_original)\n",
    "\n",
    "# Add synthetic data to the train set\n",
    "X_train_synthetic = synthetic_data_preprocessed.drop(['Is_Fraud', 'Days for shipping (real)_first', 'Order State_first','Customer State_first','Delivery Status_first',\n",
    "                                                     'Order_Month',\t'Order_Day','Order_Weekday'], axis=1)\n",
    "y_train_synthetic = synthetic_data_preprocessed['Is_Fraud']\n",
    "\n",
    "X_train = pd.concat([X_train_original, X_train_synthetic])\n",
    "y_train = pd.concat([y_train_original, y_train_synthetic])\n",
    "\n",
    "# Perform the remaining transformations using vaex\n",
    "X_train = vaex.from_pandas(df=X_train, copy_index=False)\n",
    "X_test = vaex.from_pandas(df=X_test, copy_index=False)\n",
    "ohe = vaex.ml.OneHotEncoder(features=[\"Type_first\", \"Customer Segment_first\",'Shipping Mode_first'])\n",
    "\n",
    "X_train = ohe.fit_transform(df=X_train)\n",
    "X_test = ohe.transform(X_test)\n",
    "\n",
    "mhe = vaex.ml.MultiHotEncoder(features=['Source', \"Order City_first\", \"Customer City_first\"])\n",
    "X_train = mhe.fit_transform(df=X_train)\n",
    "X_test = mhe.transform(X_test)\n",
    "\n",
    "X_train = X_train.to_pandas_df()\n",
    "X_test = X_test.to_pandas_df()\n",
    "\n",
    "X_train = X_train[X_train.dtypes[X_train.dtypes != 'object'].index.tolist()]\n",
    "X_test = X_test[X_test.dtypes[X_test.dtypes != 'object'].index.tolist()]"
   ]
  },
  {
   "cell_type": "code",
   "execution_count": 8,
   "id": "bf51a2fd-d237-4486-b3cd-dfe1efcf2745",
   "metadata": {
    "id": "bf51a2fd-d237-4486-b3cd-dfe1efcf2745"
   },
   "outputs": [],
   "source": [
    "#Data cleaning of the X_train\n",
    "X_train = X_train.fillna(0) #Fill nan values. some categories were not present in the fraud syntetic data, therefore in the concat they were replaced with nan.\n",
    "X_train = X_train.astype({'As Seen on  TV!':'int'}) ##convert them to int, since they are float"
   ]
  },
  {
   "cell_type": "markdown",
   "id": "0a6a7678-04bd-4c1f-a980-4c2d7102c307",
   "metadata": {
    "jp-MarkdownHeadingCollapsed": true,
    "tags": []
   },
   "source": [
    "### FIRST TRY WITH XGBOOST RESAMPLED"
   ]
  },
  {
   "cell_type": "code",
   "execution_count": null,
   "id": "e7c99955-5234-45a1-8c00-57181ff42895",
   "metadata": {
    "id": "e7c99955-5234-45a1-8c00-57181ff42895",
    "outputId": "c7a1cde3-5177-436e-8c8d-49303bce338d"
   },
   "outputs": [],
   "source": [
    "class_weights = round(y_train.value_counts()[0] / y_train.value_counts()[1])\n",
    "xgb_bopt_resampled = xgb.XGBClassifier(scale_pos_weight = class_weights)\n",
    "xgb_bopt_resampled.fit(X_train, y_train)\n",
    "y_pred_resample = xgb_bopt_resampled.predict(X_test)\n",
    "print(classification_report(y_test, y_pred_resample))"
   ]
  },
  {
   "cell_type": "markdown",
   "id": "63c39ec2-8ea3-43b7-b57c-ed01df2eeaae",
   "metadata": {},
   "source": [
    "### XGBOOST RESAMPLED BAYES OPT"
   ]
  },
  {
   "cell_type": "code",
   "execution_count": null,
   "id": "2f654138-33c1-4601-b46b-04e561f16b3c",
   "metadata": {},
   "outputs": [],
   "source": [
    "# Compute class weights\n",
    "class_weight = compute_class_weight('balanced', classes=[0, 1], y=y_train)\n",
    "class_weights = class_weight[1] / class_weight[0]\n",
    "\n",
    "#define the object function for the bayesian optimizer\n",
    "def xgb_cv(max_depth, n_estimators, learning_rate, subsample, colsample_bytree):\n",
    "    params = {\n",
    "        'objective': 'binary:logistic',\n",
    "        'eval_metric': 'aucpr',\n",
    "        'max_depth': int(max_depth),\n",
    "        'n_estimators': int(n_estimators),\n",
    "        'learning_rate': learning_rate,\n",
    "        'subsample': subsample,\n",
    "        'colsample_bytree': colsample_bytree,\n",
    "        'scale_pos_weight': class_weights\n",
    "    }\n",
    "    \n",
    "    clf = xgb.XGBClassifier(**params)\n",
    "    \n",
    "    cv_result = cross_val_score(clf, X_train, y_train, cv=3, scoring='roc_auc')\n",
    "    \n",
    "    return cv_result.mean()\n",
    "\n",
    "#define the space for the bayesian optimizer\n",
    "pbounds = {\n",
    "    'max_depth': (3, 9),\n",
    "    'n_estimators': (100, 1000),\n",
    "    'learning_rate': (0.01, 0.5),\n",
    "    'subsample': (0.1, 1),\n",
    "    'colsample_bytree': (0.1, 1)\n",
    "}\n",
    "\n",
    "xgb_bo = BayesianOptimization(f=xgb_cv, pbounds=pbounds, verbose=2, random_state=42)\n",
    "xgb_bo.maximize()\n",
    "\n",
    "best_params = xgb_bo.max['params']\n",
    "\n",
    "params = {\n",
    "    'objective': 'binary:logistic',\n",
    "    'eval_metric': 'aucpr',\n",
    "    'max_depth': int(best_params['max_depth']),\n",
    "    'n_estimators': int(best_params['n_estimators']),\n",
    "    'learning_rate': best_params['learning_rate'],\n",
    "    'subsample': best_params['subsample'],\n",
    "    'colsample_bytree': best_params['colsample_bytree'],\n",
    "    'scale_pos_weight': class_weights    \n",
    "}\n",
    "\n",
    "print(best_params)"
   ]
  },
  {
   "cell_type": "code",
   "execution_count": null,
   "id": "ef02432f-d320-4d40-bd3f-8eb88639bb8e",
   "metadata": {},
   "outputs": [],
   "source": [
    "xgb_resampled_tuning = xgb.XGBClassifier()\n",
    "xgb_resampled_tuning.fit(X_train, y_train)\n",
    "y_pred_xgb_bopt = xgb_resampled_tuning.predict(X_test)\n",
    "print(classification_report(y_test, y_pred_xgb_bopt))"
   ]
  },
  {
   "cell_type": "markdown",
   "id": "1608d0b3-a7d5-44b7-be3e-e000e2abf65d",
   "metadata": {
    "jp-MarkdownHeadingCollapsed": true,
    "tags": []
   },
   "source": [
    "### RANDOM FOREST RESAMPLED"
   ]
  },
  {
   "cell_type": "code",
   "execution_count": 19,
   "id": "61a0fc1b-0d53-4b4e-8a96-b8bc33b592c6",
   "metadata": {
    "id": "61a0fc1b-0d53-4b4e-8a96-b8bc33b592c6"
   },
   "outputs": [],
   "source": [
    "rf_resampled_no_tuning = RandomForestClassifier()\n",
    "rf_resampled_no_tuning.fit(X_train, y_train)\n",
    "y_pred = rf_resampled_no_tuning.predict(X_test)"
   ]
  },
  {
   "cell_type": "code",
   "execution_count": 20,
   "id": "85031636-4b10-4ccf-aa73-352e4391d6a3",
   "metadata": {
    "colab": {
     "base_uri": "https://localhost:8080/"
    },
    "id": "85031636-4b10-4ccf-aa73-352e4391d6a3",
    "outputId": "035bee4f-434d-4d39-e69a-ae4fca3e4bc8"
   },
   "outputs": [
    {
     "name": "stdout",
     "output_type": "stream",
     "text": [
      "              precision    recall  f1-score   support\n",
      "\n",
      "           0       0.98      0.98      0.98     21208\n",
      "           1       0.09      0.08      0.08       491\n",
      "\n",
      "    accuracy                           0.96     21699\n",
      "   macro avg       0.53      0.53      0.53     21699\n",
      "weighted avg       0.96      0.96      0.96     21699\n",
      "\n"
     ]
    }
   ],
   "source": [
    "print(classification_report(y_test, y_pred))"
   ]
  },
  {
   "cell_type": "code",
   "execution_count": 21,
   "id": "fNKBwQUP02co",
   "metadata": {
    "id": "fNKBwQUP02co"
   },
   "outputs": [],
   "source": [
    "explainer = shap.TreeExplainer(rf_resampled_no_tuning)\n",
    "shap_values = explainer.shap_values(X_test)"
   ]
  },
  {
   "cell_type": "code",
   "execution_count": 22,
   "id": "NNPJMscv1A3D",
   "metadata": {
    "colab": {
     "base_uri": "https://localhost:8080/",
     "height": 951
    },
    "id": "NNPJMscv1A3D",
    "outputId": "5f1881b9-8dc6-4435-8c64-3b1edbb66050"
   },
   "outputs": [
    {
     "data": {
      "image/png": "[encoded data removed]",
      "text/plain": [
       "<Figure size 800x950 with 1 Axes>"
      ]
     },
     "metadata": {},
     "output_type": "display_data"
    }
   ],
   "source": [
    "shap.summary_plot(shap_values, features=X_test, feature_names=X_test.columns, plot_type='bar')"
   ]
  },
  {
   "cell_type": "markdown",
   "id": "bd020ecc-4c71-4a33-a8c0-c3600c82d572",
   "metadata": {
    "id": "bd020ecc-4c71-4a33-a8c0-c3600c82d572"
   },
   "source": [
    "The overoptimistc performance were caused by the mixing of generate data on both the training and testing data. This has lead to (again) data leakage in the dataset."
   ]
  }
 ],
 "metadata": {
  "colab": {
   "provenance": []
  },
  "kernelspec": {
   "display_name": "Python 3 (ipykernel)",
   "language": "python",
   "name": "python3"
  },
  "language_info": {
   "codemirror_mode": {
    "name": "ipython",
    "version": 3
   },
   "file_extension": ".py",
   "mimetype": "text/x-python",
   "name": "python",
   "nbconvert_exporter": "python",
   "pygments_lexer": "ipython3",
   "version": "3.10.9"
  }
 },
 "nbformat": 4,
 "nbformat_minor": 5
}
