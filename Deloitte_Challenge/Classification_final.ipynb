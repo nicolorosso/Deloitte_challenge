{
 "cells": [
  {
   "cell_type": "markdown",
   "metadata": {
    "id": "O5mHmmMmIUPS"
   },
   "source": [
    "# CLASSIFICATION TASK: FRAUD DETECTION"
   ]
  },
  {
   "cell_type": "markdown",
   "metadata": {
    "id": "BntCcMM_7G5a"
   },
   "source": [
    "The pyhton file is divided into three sections:\n",
    "- models on the original dataset\n",
    "- models on the original dataset with grouped Shuffle split\n",
    "- models on the grouped dataset"
   ]
  },
  {
   "cell_type": "markdown",
   "metadata": {
    "id": "-5sRIWpBIUPU"
   },
   "source": [
    "## IMPORTING THE LIBRARIES "
   ]
  },
  {
   "cell_type": "code",
   "execution_count": 4,
   "metadata": {
    "id": "jZmByam41nr8"
   },
   "outputs": [],
   "source": [
    "#importing libraries\n",
    "import pandas as pd\n",
    "import numpy as np\n",
    "import matplotlib.pyplot as plt\n",
    "import seaborn as sns\n",
    "import plotly.express as px\n",
    "import plotly.graph_objects as go\n",
    "import networkx as nx\n",
    "import yellowbrick\n",
    "import shap\n",
    "from scipy import stats\n",
    "from scipy.stats import randint as sp_randint\n",
    "from sklearn.model_selection import train_test_split, KFold, cross_val_score\n",
    "from sklearn.preprocessing import OneHotEncoder, MinMaxScaler, RobustScaler, LabelEncoder, PolynomialFeatures\n",
    "from sklearn.compose import ColumnTransformer\n",
    "from sklearn.pipeline import Pipeline\n",
    "from sklearn.feature_selection import SelectPercentile, chi2\n",
    "from sklearn.linear_model import LogisticRegression, LinearRegression\n",
    "from sklearn.svm import SVR\n",
    "from sklearn.ensemble import ExtraTreesRegressor\n",
    "from sklearn.metrics import classification_report, confusion_matrix, ConfusionMatrixDisplay\n",
    "from sklearn.model_selection import GridSearchCV, RandomizedSearchCV, cross_val_score\n",
    "from sklearn.metrics import mean_squared_error, mean_absolute_error,mean_absolute_percentage_error, r2_score\n",
    "import xgboost as xgb\n",
    "import vaex.ml\n",
    "import datetime as dt"
   ]
  },
  {
   "cell_type": "code",
   "execution_count": 5,
   "metadata": {
    "id": "zdPcqaYR8Ucy"
   },
   "outputs": [],
   "source": [
    "pd.set_option('display.max_columns',None)"
   ]
  },
  {
   "cell_type": "markdown",
   "metadata": {
    "id": "kZpTpq872B37"
   },
   "source": [
    "## CLASSIFICATION ON THE ORIGINAL DATASET"
   ]
  },
  {
   "cell_type": "markdown",
   "metadata": {
    "id": "xfpJugmq18yc"
   },
   "source": [
    "#### IMPORTING THE DATASET\n"
   ]
  },
  {
   "cell_type": "code",
   "execution_count": 7,
   "metadata": {
    "id": "lohk9cNB1sK0"
   },
   "outputs": [],
   "source": [
    "df = pd.read_csv('SupplyChainDataset.csv')"
   ]
  },
  {
   "cell_type": "markdown",
   "metadata": {
    "id": "2cbHjwXNIUPX"
   },
   "source": [
    "#### DATASET CLEANING AND PREPROCESSING "
   ]
  },
  {
   "cell_type": "markdown",
   "metadata": {
    "id": "GjebwSl67G5e"
   },
   "source": [
    "These are steps used for the data cleaning and data preprocessing."
   ]
  },
  {
   "cell_type": "code",
   "execution_count": 8,
   "metadata": {
    "id": "SikehXMw7G5e"
   },
   "outputs": [],
   "source": [
    "#Transforming the order date in date time format\n",
    "df['order date (DateOrders)'] = pd.to_datetime(df['order date (DateOrders)'])"
   ]
  },
  {
   "cell_type": "code",
   "execution_count": 9,
   "metadata": {
    "id": "dZ8Matsi7G5f"
   },
   "outputs": [],
   "source": [
    "#calculating the recency column\n",
    "def get_month(x):\n",
    "    return dt.datetime(x.year, x.month, 1)\n",
    "\n",
    "df['InvoiceMonth'] = df['order date (DateOrders)'].apply(get_month)\n",
    "grouping = df.groupby('Customer Id')['InvoiceMonth']\n",
    "df['CohortMonth'] = grouping.transform('min')\n",
    "grouping_days = df.groupby('Customer Id')['order date (DateOrders)']\n",
    "df['Cohortdays']  = grouping_days.transform('min')\n",
    "def get_date_int(df, column):\n",
    "    year = df[column].dt.year\n",
    "    month = df[column].dt.month\n",
    "    date = df[column].dt.date\n",
    "    hour = df[column].dt.hour\n",
    "    return year, month, date, hour\n",
    "\n",
    "Invoice_Year, Invoice_Month, Invoice_Day, _ = get_date_int(df, 'order date (DateOrders)')\n",
    "Cohort_Year, Cohort_Month , Cohort_day, _ = get_date_int(df, 'Cohortdays')\n",
    "Year_Diff = Invoice_Year - Cohort_Year\n",
    "Month_Diff = Invoice_Month - Cohort_Month\n",
    "Day_Diff = Invoice_Day - Cohort_day\n",
    "df['CohortIndex_months'] = Year_Diff*12 + Month_Diff +1\n",
    "df['CohortIndex_days'] = Day_Diff.dt.days"
   ]
  },
  {
   "cell_type": "code",
   "execution_count": 10,
   "metadata": {
    "id": "uV1ShqbVSRSc"
   },
   "outputs": [],
   "source": [
    "#creating one class that add the target variable,parsing column names, removing unneccesary colums, augmenting the dataframe with new features\n",
    "class PreprocessDataFrame:\n",
    "    def __init__(self, df):\n",
    "        self.df = df\n",
    "\n",
    "    def add_target_variable(self):\n",
    "        self.df['Is_Fraud'] = self.df['Order Status'].apply(lambda x: 1 if x=='SUSPECTED_FRAUD' else 0)\n",
    "        return self.df\n",
    "\n",
    "    def parse_column_names(self):\n",
    "        self.df.columns = [i.replace(' ','_').replace('(','').replace(')','') for i in self.df.columns]\n",
    "        return self.df\n",
    "\n",
    "    def drop_unuseful_columns(self):\n",
    "        to_drop = ['Customer_Country', 'Customer_Email', 'Customer_Fname',\n",
    "                  'Customer_Lname', 'Customer_Password', 'Customer_Street', \n",
    "                   'Customer_Zipcode','Product_Description', 'Product_Image', \n",
    "                   'Product_Status', 'Order_Zipcode', 'Order_Item_Id',\n",
    "                  'Order_Country', 'Order_Customer_Id', 'Order_Country', \n",
    "                   'Order_Region', 'Order_State','Market', \n",
    "                   'Customer_State', 'Order_Item_Cardprod_Id', 'Product_Card_Id',\n",
    "                  'Benefit_per_order','Product_Price', 'Days_for_shipping_real', \n",
    "                   'Late_delivery_risk', 'Delivery_Status', 'Order_Status',\n",
    "                   'shipping_date_DateOrders']\n",
    "\n",
    "        self.df['Category_Department_Name'] = (self.df['Category_Name'] + '_' + self.df['Department_Name']) \\\n",
    "          .str.replace(' ', '_')\n",
    "\n",
    "        self.df = self.df.drop(to_drop + ['Category_Name','Department_Name'], axis=1)\n",
    "        return self.df\n",
    "  \n",
    "\n",
    "    def total_items_per_order(self):\n",
    "        self.df['Total_Items_In_The_Cart']  = self.df['Order_Id'].map(self.df['Order_Id'].value_counts().to_dict())\n",
    "        return self.df\n",
    "\n",
    "\n",
    "    def process_datetetimes(self):\n",
    "        self.df.order_date_DateOrders = pd.to_datetime(self.df.order_date_DateOrders)\n",
    "        (self.df.order_date_DateOrders.astype(np.int64) / int(1e6)).astype('int64')\n",
    "        return self.df\n",
    "\n",
    "    def augment_with_network_features(self):\n",
    "        self.df['Source'] = ('LA' + self.df['Latitude'].astype('str') + '-' + 'LO' + self.df['Longitude'].astype('str'))\n",
    "        G = nx.from_pandas_edgelist(self.df, source='Source', target='Order_City')\n",
    "        self.df['Source_Centrality'] = self.df.Source.map(dict(G.degree))\n",
    "        return self.df\n",
    "\n",
    "\n",
    "preprocessor = PreprocessDataFrame(df).add_target_variable()\n",
    "preprocessor = PreprocessDataFrame(preprocessor).parse_column_names()\n",
    "preprocessor = PreprocessDataFrame(preprocessor).drop_unuseful_columns()\n",
    "preprocessor = PreprocessDataFrame(preprocessor).total_items_per_order()\n",
    "preprocessor = PreprocessDataFrame(preprocessor).process_datetetimes()\n",
    "preprocessor = PreprocessDataFrame(preprocessor).augment_with_network_features()\n",
    "preprocessor['Customer_Id'] = preprocessor['Customer_Id'].astype('object')\n",
    "preprocessor['total_number_of_transactions_so_far'] = preprocessor.groupby('Customer_Id').cumcount() + 1"
   ]
  },
  {
   "cell_type": "code",
   "execution_count": 11,
   "metadata": {
    "id": "gpg6hKyT7G5g"
   },
   "outputs": [],
   "source": [
    "#creating another clss that apply the vaex CycleTrasformer, do the train-test split and encode the categorical variables \n",
    "class ClassificationDataframeProcessor:\n",
    "\n",
    "    def __init__(self):\n",
    "        self.columns_for_ml = ['Customer_City', 'Days_for_shipment_scheduled',\n",
    "       'Sales_per_customer', 'Customer_Segment', 'Latitude', 'total_number_of_transactions_so_far',\n",
    "       'Longitude', 'Order_City', 'Order_Item_Quantity',\n",
    "       'Shipping_Mode', 'Type', 'CohortIndex_months', 'CohortIndex_days', 'Source_Centrality',\n",
    "        'Order_Month', 'Order_Day', 'Order_Weekday', 'Is_Fraud', \"Category_Id\", 'Department_Id']\n",
    "\n",
    "    def process_df_for_classification(self, df):\n",
    "        \n",
    "        df['order_date_DateOrders'] = pd.to_datetime(df['order_date_DateOrders'], unit='ms')\n",
    "\n",
    "        df['Order_Month'] = df.order_date_DateOrders.dt.month\n",
    "        df['Order_Day'] = df.order_date_DateOrders.dt.day\n",
    "        df['Order_Weekday'] = df.order_date_DateOrders.dt.dayofweek\n",
    "\n",
    "        ml = df[self.columns_for_ml]\n",
    "        return ml\n",
    "\n",
    "    def cycletransform_month_day_weekday(self,df):\n",
    "        \"\"\"\n",
    "        \n",
    "        \"\"\"\n",
    "        ml = vaex.from_pandas(df=df, copy_index=False)\n",
    "        ml = vaex.ml.CycleTransformer(features=['Order_Month'], n=12).fit_transform(ml)\n",
    "        ml = vaex.ml.CycleTransformer(features=['Order_Day'], n=31).fit_transform(ml)\n",
    "        ml = vaex.ml.CycleTransformer(features=['Order_Weekday'], n=7).fit_transform(ml)\n",
    "        ml = ml.to_pandas_df()\n",
    "        return ml\n",
    "\n",
    "    def return_processed_and_split_X_y(self,df):\n",
    "        X = df[[i for i in df.columns if i != 'Is_Fraud']]\n",
    "        X = X.drop(['Order_Month','Order_Day','Order_Weekday'],axis=1)\n",
    "        y = df['Is_Fraud']\n",
    "        X_train, X_test, y_train, y_test = train_test_split(X, y, test_size=0.33, stratify=y)\n",
    "        return X_train, X_test, y_train, y_test\n",
    "\n",
    "    @staticmethod\n",
    "    def encode_Xtrain_Xtest(X_train,X_test):\n",
    "\n",
    "        X_train = vaex.from_pandas(df=X_train, copy_index=False)\n",
    "        X_test = vaex.from_pandas(df=X_test, copy_index=False)\n",
    "        ohe = vaex.ml.OneHotEncoder(features=['Type', \"Customer_Segment\",'Shipping_Mode'])\n",
    "        X_train = ohe.fit_transform(df=X_train)\n",
    "        X_test = ohe.transform(X_test)\n",
    "\n",
    "        mhe = vaex.ml.MultiHotEncoder(features=[\"Order_City\", \"Category_Id\", 'Department_Id'])\n",
    "        X_train = mhe.fit_transform(df=X_train)\n",
    "        X_test = mhe.transform(X_test)\n",
    "\n",
    "        X_train = X_train.to_pandas_df()\n",
    "        X_test = X_test.to_pandas_df()\n",
    "\n",
    "        X_train = X_train[X_train.dtypes[X_train.dtypes != 'object'].index.tolist()]\n",
    "        X_test = X_test[X_test.dtypes[X_test.dtypes != 'object'].index.tolist()]\n",
    "\n",
    "        return X_train, X_test\n",
    "\n",
    "cdp = ClassificationDataframeProcessor()\n",
    "df_class = cdp.process_df_for_classification(preprocessor)\n",
    "df_class = cdp.cycletransform_month_day_weekday(df_class)\n",
    "X_train, X_test, y_train, y_test = cdp.return_processed_and_split_X_y(df_class)\n",
    "X_train, X_test = cdp.encode_Xtrain_Xtest(X_train, X_test)"
   ]
  },
  {
   "cell_type": "markdown",
   "metadata": {
    "id": "Px6-Uwjv7G5h"
   },
   "source": [
    "### MODELS"
   ]
  },
  {
   "cell_type": "markdown",
   "metadata": {
    "id": "3mi76hHx3MbE"
   },
   "source": [
    "#### BASELINE MODELS"
   ]
  },
  {
   "cell_type": "code",
   "execution_count": 12,
   "metadata": {
    "id": "vB7xlJ0F6zWj"
   },
   "outputs": [],
   "source": [
    "numerical_features = X_train.select_dtypes(include='number').columns.tolist()\n",
    "categorical_features = X_train.select_dtypes(exclude='number').columns.tolist()"
   ]
  },
  {
   "cell_type": "markdown",
   "metadata": {
    "id": "D1A5rBYE3Tan"
   },
   "source": [
    "#### LOGISTIC REGRESSION"
   ]
  },
  {
   "cell_type": "code",
   "execution_count": null,
   "metadata": {},
   "outputs": [],
   "source": [
    "#Try Logisitc Regression with Matthew Corr Coeff as Scoring Params\n",
    "numeric_pipeline = Pipeline(steps = [\n",
    "    ('minmax', MinMaxScaler())])\n",
    "\n",
    "full_processor = ColumnTransformer([\n",
    "     ('number', numeric_pipeline, numerical_features)])\n",
    "     \n",
    "log = LogisticRegression(random_state=42, max_iter = 1000, class_weight = 'balanced')\n",
    "\n",
    "# set up pipeline\n",
    "log_pipeline = Pipeline(steps=[\n",
    "    ('preprocess', full_processor),\n",
    "    ('model', log)])\n",
    "\n",
    "params = {\"model__solver\": [\"newton-cg\", \"saga\", \"lbfgs\"],\n",
    "         \"model__C\": np.linspace(0.001, 1.0, 10)}\n",
    "#Random Search for Logistc Regression\n",
    "search = GridSearchCV(log_pipeline, param_grid=params, scoring='matthews_corrcoef', n_jobs=-1)\n",
    "\n",
    "_=search.fit(X_train, y_train)"
   ]
  },
  {
   "cell_type": "code",
   "execution_count": null,
   "metadata": {
    "id": "uTIUL4ue3gwJ"
   },
   "outputs": [],
   "source": [
    "y_pred = search.predict(X_test)\n",
    "print(classification_report(y_test, y_pred))\n",
    "print(\"Matthews_corrcoef:\",matthews_corrcoef(y_test, y_pred))"
   ]
  },
  {
   "cell_type": "code",
   "execution_count": null,
   "metadata": {},
   "outputs": [],
   "source": [
    "#confusion matrix\n",
    "from sklearn import metrics\n",
    "# MAKE FIGURE\n",
    "fig, axes = plt.subplots(figsize=(10,4),ncols=2)\n",
    "\n",
    "# PLOTTING CONFUSION MATRIX \n",
    "metrics.ConfusionMatrixDisplay.from_estimator(search, X_test,y_test,\n",
    "                              display_labels=None,\n",
    "                              normalize='true',\n",
    "                             cmap='Blues',ax=axes[0])\n",
    "axes[0].set(title='Confusion Matrix')\n",
    "\n",
    "#PLOTTING ROC CURVE\n",
    "roc_plot = metrics.RocCurveDisplay.from_estimator(svm_pipeline, X_test, y_test,ax=axes[1])\n",
    "axes[1].legend()\n",
    "axes[1].plot([0,1],[0,1],ls=':')\n",
    "axes[1].grid()\n",
    "axes[1].set_title('Receiving Operator Characteristic (ROC) Curve') \n",
    "fig.tight_layout()\n",
    "plt.show()"
   ]
  },
  {
   "cell_type": "markdown",
   "metadata": {
    "id": "bsYSuc0h6P_8"
   },
   "source": [
    "#### SVM CLASSIFIER"
   ]
  },
  {
   "cell_type": "code",
   "execution_count": null,
   "metadata": {
    "id": "m8xAUwRk6UVm"
   },
   "outputs": [],
   "source": [
    "from sklearn import svm\n",
    "num_pipeline = Pipeline([\n",
    "        ('minmax', MinMaxScaler())])\n",
    "\n",
    "full_processor = ColumnTransformer([\n",
    "        (\"num_pipeline\", num_pipeline, numerical_features)\n",
    "    ])\n",
    "class_weights = round(y_train.value_counts()[0] / y_train.value_counts()[1])\n",
    "\n",
    "svm = svm.SVC(kernel='rbf')\n",
    "svm_pipeline = Pipeline([\n",
    "    ('preprocess', full_processor),\n",
    "    ('fit', svm)])\n",
    "\n",
    "_=svm_pipeline.fit(X_train, y_train)\n",
    "y_pred = svm_pipeline.predict(X_test)"
   ]
  },
  {
   "cell_type": "code",
   "execution_count": null,
   "metadata": {
    "colab": {
     "base_uri": "https://localhost:8080/"
    },
    "id": "3c_9z1f86kQW",
    "outputId": "ee9f1930-ff59-4f13-8de1-cdde604011a0"
   },
   "outputs": [
    {
     "name": "stdout",
     "output_type": "stream",
     "text": [
      "              precision    recall  f1-score   support\n",
      "\n",
      "           0       0.98      1.00      0.99     58232\n",
      "           1       0.00      0.00      0.00      1340\n",
      "\n",
      "    accuracy                           0.98     59572\n",
      "   macro avg       0.49      0.50      0.49     59572\n",
      "weighted avg       0.96      0.98      0.97     59572\n",
      "\n"
     ]
    },
    {
     "name": "stderr",
     "output_type": "stream",
     "text": [
      "Precision and F-score are ill-defined and being set to 0.0 in labels with no predicted samples. Use `zero_division` parameter to control this behavior.\n",
      "Precision and F-score are ill-defined and being set to 0.0 in labels with no predicted samples. Use `zero_division` parameter to control this behavior.\n",
      "Precision and F-score are ill-defined and being set to 0.0 in labels with no predicted samples. Use `zero_division` parameter to control this behavior.\n"
     ]
    }
   ],
   "source": [
    "y_pred = svm_pipeline.predict(X_test)\n",
    "print(classification_report(y_test, y_pred))"
   ]
  },
  {
   "cell_type": "code",
   "execution_count": null,
   "metadata": {
    "colab": {
     "base_uri": "https://localhost:8080/",
     "height": 401
    },
    "id": "iKlzFt0S6lG6",
    "outputId": "e5c6d2ad-13b6-4887-d26a-15e62849bdcb"
   },
   "outputs": [
    {
     "data": {
      "image/png": "[encoded data removed]",
      "text/plain": [
       "<Figure size 1000x400 with 3 Axes>"
      ]
     },
     "metadata": {},
     "output_type": "display_data"
    }
   ],
   "source": [
    "from sklearn import metrics\n",
    "# MAKE FIGURE\n",
    "fig, axes = plt.subplots(figsize=(10,4),ncols=2)\n",
    "\n",
    "# PLOTTING CONFUSION MATRIX \n",
    "metrics.ConfusionMatrixDisplay.from_estimator(svm_pipeline, X_test,y_test,\n",
    "                              display_labels=None,\n",
    "                              normalize='true',\n",
    "                             cmap='Blues',ax=axes[0])\n",
    "axes[0].set(title='Confusion Matrix')\n",
    "\n",
    "#PLOTTING ROC CURVE\n",
    "roc_plot = metrics.RocCurveDisplay.from_estimator(svm_pipeline, X_test, y_test,ax=axes[1])\n",
    "axes[1].legend()\n",
    "axes[1].plot([0,1],[0,1],ls=':')\n",
    "axes[1].grid()\n",
    "axes[1].set_title('Receiving Operator Characteristic (ROC) Curve') \n",
    "fig.tight_layout()\n",
    "plt.show()"
   ]
  },
  {
   "cell_type": "markdown",
   "metadata": {
    "id": "3jWSgUpY65ml"
   },
   "source": [
    "#### XGBOOST CLASSIFIER  FOR UNBALANCED DATA"
   ]
  },
  {
   "cell_type": "code",
   "execution_count": null,
   "metadata": {
    "id": "s_amFlC1S50i"
   },
   "outputs": [],
   "source": [
    "class_weights = round(y_train.value_counts()[0] / y_train.value_counts()[1])\n",
    "\n",
    "#from sklearn.model_selection import StratifiedKFold\n",
    "xgb_c = xgb.XGBClassifier(eval_metric='auc', \n",
    "                          objective='binary:logistic',\n",
    "                          n_estimators=800,\n",
    "                          scale_pos_weight=class_weights,\n",
    "                          colsample_bytree = 1,\n",
    "                          gamma = 0,\n",
    "                          learning_rate = 0.3,\n",
    "                          max_depth = 12,\n",
    "                          min_child_weight = 1)\n",
    "\n",
    "_=xgb_c.fit(X_train, y_train)\n",
    "y_pred_base = xgb_c.predict(X_test)"
   ]
  },
  {
   "cell_type": "code",
   "execution_count": null,
   "metadata": {
    "colab": {
     "base_uri": "https://localhost:8080/"
    },
    "id": "I-KTi5KVS7l7",
    "outputId": "2af858a7-a69c-4264-d8c6-d09f99c1add0"
   },
   "outputs": [
    {
     "name": "stdout",
     "output_type": "stream",
     "text": [
      "              precision    recall  f1-score   support\n",
      "\n",
      "           0       0.99      1.00      1.00     58232\n",
      "           1       0.97      0.77      0.86      1340\n",
      "\n",
      "    accuracy                           0.99     59572\n",
      "   macro avg       0.98      0.88      0.93     59572\n",
      "weighted avg       0.99      0.99      0.99     59572\n",
      "\n"
     ]
    }
   ],
   "source": [
    "print(classification_report(y_test, y_pred_base))"
   ]
  },
  {
   "cell_type": "code",
   "execution_count": null,
   "metadata": {
    "colab": {
     "base_uri": "https://localhost:8080/"
    },
    "id": "rNNFGHjzS-vv",
    "outputId": "a6ffb74d-aa24-49fa-ed25-3b6d729aed2c"
   },
   "outputs": [
    {
     "name": "stderr",
     "output_type": "stream",
     "text": [
      "ntree_limit is deprecated, use `iteration_range` or model slicing instead.\n"
     ]
    }
   ],
   "source": [
    "explainer = shap.TreeExplainer(xgb_c)\n",
    "shap_values = explainer.shap_values(X_test)"
   ]
  },
  {
   "cell_type": "code",
   "execution_count": null,
   "metadata": {
    "colab": {
     "base_uri": "https://localhost:8080/",
     "height": 951
    },
    "id": "ZbLF7mgoS-2e",
    "outputId": "899cf492-93b0-410c-938d-b3be099f2440"
   },
   "outputs": [
    {
     "data": {
      "image/png": "[encoded data removed]",
      "text/plain": [
       "<Figure size 800x950 with 1 Axes>"
      ]
     },
     "metadata": {},
     "output_type": "display_data"
    }
   ],
   "source": [
    "shap.summary_plot(shap_values, features=X_test, feature_names=X_test.columns, plot_type='bar')"
   ]
  },
  {
   "cell_type": "code",
   "execution_count": null,
   "metadata": {
    "colab": {
     "base_uri": "https://localhost:8080/",
     "height": 401
    },
    "id": "fPCWJ14k7i65",
    "outputId": "8b82454c-104e-4934-dbcd-9bdf90517027",
    "scrolled": true
   },
   "outputs": [
    {
     "data": {
      "image/png": "[encoded data removed]",
      "text/plain": [
       "<Figure size 1000x400 with 3 Axes>"
      ]
     },
     "metadata": {},
     "output_type": "display_data"
    }
   ],
   "source": [
    "from sklearn import metrics\n",
    "# MAKE FIGURE\n",
    "fig, axes = plt.subplots(figsize=(10,4),ncols=2)\n",
    "\n",
    "# PLOTTING CONFUSION MATRIX \n",
    "metrics.ConfusionMatrixDisplay.from_estimator(xgb_c, X_test,y_test,\n",
    "                              display_labels=None,\n",
    "                              normalize='true',\n",
    "                             cmap='Blues',ax=axes[0])\n",
    "axes[0].set(title='Confusion Matrix')\n",
    "\n",
    "#PLOTTING ROC CURVE\n",
    "roc_plot = metrics.RocCurveDisplay.from_estimator(xgb_c, X_test, y_test,ax=axes[1])\n",
    "axes[1].legend()\n",
    "axes[1].plot([0,1],[0,1],ls=':')\n",
    "axes[1].grid()\n",
    "axes[1].set_title('Receiving Operator Characteristic (ROC) Curve') \n",
    "fig.tight_layout()\n",
    "plt.show()"
   ]
  },
  {
   "cell_type": "markdown",
   "metadata": {
    "id": "nH4U8IMO7qOU"
   },
   "source": [
    "##### MODEL OPTIMIZATION WITH BAYESIAN METHOD"
   ]
  },
  {
   "cell_type": "code",
   "execution_count": null,
   "metadata": {
    "id": "V0Gaw_997oPl"
   },
   "outputs": [],
   "source": [
    "#define the object function for the bayesian optimizer\n",
    "def xgb_cv(max_depth, n_estimators, learning_rate, subsample, colsample_bytree):\n",
    "    params = {\n",
    "        'objective': 'binary:logistic',\n",
    "        'eval_metric': 'auc',\n",
    "        'max_depth': int(max_depth),\n",
    "        'n_estimators': int(n_estimators),\n",
    "        'learning_rate': learning_rate,\n",
    "        'subsample': subsample,\n",
    "        'colsample_bytree': colsample_bytree\n",
    "    }\n",
    "    \n",
    "    clf = xgb.XGBClassifier(**params)\n",
    "    \n",
    "    cv_result = cross_val_score(clf, X_train, y_train, cv=3, scoring='roc_auc')\n",
    "    \n",
    "    return cv_result.mean()\n",
    "\n",
    "class_weights = len(y_train) / (2 * np.bincount(y_train))\n",
    "\n",
    "#define the space for the bayesian optimizer\n",
    "pbounds = {\n",
    "    'max_depth': (3, 9),\n",
    "    'n_estimators': (100, 1000),\n",
    "    'learning_rate': (0.01, 0.5),\n",
    "    'subsample': (0.1, 1),\n",
    "    'colsample_bytree': (0.1, 1)\n",
    "}\n",
    "\n",
    "xgb_bo = BayesianOptimization(f=xgb_cv, pbounds=pbounds, verbose=2, random_state=42)\n",
    "xgb_bo.maximize()\n",
    "\n",
    "best_params = xgb_bo.max['params']\n",
    "\n",
    "params = {\n",
    "    'objective': 'binary:logistic',\n",
    "    'eval_metric': 'auc',\n",
    "    'max_depth': int(best_params['max_depth']),\n",
    "    'n_estimators': int(best_params['n_estimators']),\n",
    "    'learning_rate': best_params['learning_rate'],\n",
    "    'subsample': best_params['subsample'],\n",
    "    'colsample_bytree': best_params['colsample_bytree']\n",
    "}\n"
   ]
  },
  {
   "cell_type": "code",
   "execution_count": null,
   "metadata": {
    "id": "mD15xmF08Gqr"
   },
   "outputs": [],
   "source": [
    "params = {'colsample_bytree': 0.7806204848436595,\n",
    " 'learning_rate': 0.3613362625590517,\n",
    " 'max_depth': int(7.7185207148613655),\n",
    " 'n_estimators': int(640.933693904489),\n",
    " 'subsample': 0.9986912749518453}\n",
    "model_bayes = xgb.XGBClassifier(**params)\n",
    "_=model_bayes.fit(X_train, y_train)\n",
    "y_pred =model_bayes.predict(X_test)"
   ]
  },
  {
   "cell_type": "code",
   "execution_count": null,
   "metadata": {
    "colab": {
     "base_uri": "https://localhost:8080/"
    },
    "id": "y4ufayBk8I3m",
    "outputId": "509598b1-8eb5-4f60-e547-e3b9b42bcd44"
   },
   "outputs": [
    {
     "name": "stdout",
     "output_type": "stream",
     "text": [
      "This is the classification report for the base model of XGBoost: \n",
      "              precision    recall  f1-score   support\n",
      "\n",
      "           0       0.99      1.00      1.00     58232\n",
      "           1       0.99      0.64      0.78      1340\n",
      "\n",
      "    accuracy                           0.99     59572\n",
      "   macro avg       0.99      0.82      0.89     59572\n",
      "weighted avg       0.99      0.99      0.99     59572\n",
      "\n"
     ]
    }
   ],
   "source": [
    "#this model increased the precision but didn't manage to outperfom the recall of the above model. Therefore, we have decided to \n",
    "#save the first xgboost model. However, it was a nice try. \n",
    "print('This is the classification report for the base model of XGBoost: ')\n",
    "print(classification_report(y_test, y_pred))"
   ]
  },
  {
   "cell_type": "markdown",
   "metadata": {
    "id": "thbbKJ_d8XLp"
   },
   "source": [
    "## Classification on Stratified Grouped ID"
   ]
  },
  {
   "cell_type": "markdown",
   "metadata": {
    "id": "tUFEjcW67G5l"
   },
   "source": [
    "CLEANING THE DATASET AND PREPROCESSING IT AS WE DID ON THE ORIGINAL DATASET."
   ]
  },
  {
   "cell_type": "code",
   "execution_count": null,
   "metadata": {
    "id": "pyh4zQ3a7G5l"
   },
   "outputs": [],
   "source": [
    "df['order date (DateOrders)'] = pd.to_datetime(df['order date (DateOrders)'])"
   ]
  },
  {
   "cell_type": "code",
   "execution_count": null,
   "metadata": {
    "id": "nf6TfZ5O7G5l"
   },
   "outputs": [],
   "source": [
    "def get_month(x):\n",
    "    return dt.datetime(x.year, x.month, 1)\n",
    "\n",
    "df['InvoiceMonth'] = df['order date (DateOrders)'].apply(get_month)\n",
    "grouping = df.groupby('Customer Id')['InvoiceMonth']\n",
    "df['CohortMonth'] = grouping.transform('min')\n",
    "grouping_days = df.groupby('Customer Id')['order date (DateOrders)']\n",
    "df['Cohortdays']  = grouping_days.transform('min')\n",
    "def get_date_int(df, column):\n",
    "    year = df[column].dt.year\n",
    "    month = df[column].dt.month\n",
    "    date = df[column].dt.date\n",
    "    hour = df[column].dt.hour\n",
    "    return year, month, date, hour\n",
    "\n",
    "Invoice_Year, Invoice_Month, Invoice_Day, _ = get_date_int(df, 'order date (DateOrders)')\n",
    "Cohort_Year, Cohort_Month , Cohort_day, _ = get_date_int(df, 'Cohortdays')\n",
    "Year_Diff = Invoice_Year - Cohort_Year\n",
    "Month_Diff = Invoice_Month - Cohort_Month\n",
    "Day_Diff = Invoice_Day - Cohort_day\n",
    "df['CohortIndex_months'] = Year_Diff*12 + Month_Diff +1\n",
    "df['CohortIndex_days'] = Day_Diff.dt.days"
   ]
  },
  {
   "cell_type": "code",
   "execution_count": null,
   "metadata": {
    "id": "aAuVTWRU8xKq"
   },
   "outputs": [],
   "source": [
    "class PreprocessDataFrame:\n",
    "    def __init__(self, df):\n",
    "        self.df = df\n",
    "\n",
    "    def add_target_variable(self):\n",
    "        self.df['Is_Fraud'] = self.df['Order Status'].apply(lambda x: 1 if x=='SUSPECTED_FRAUD' else 0)\n",
    "        return self.df\n",
    "\n",
    "    def parse_column_names(self):\n",
    "        self.df.columns = [i.replace(' ','_').replace('(','').replace(')','') for i in self.df.columns]\n",
    "        return self.df\n",
    "\n",
    "    def drop_unuseful_columns(self):\n",
    "        to_drop = ['Customer_Country', 'Customer_Email', 'Customer_Fname', 'Customer_Id',\n",
    "                   'Customer_Lname', 'Customer_Password', 'Customer_Street', 'Customer_Zipcode',\n",
    "                   'Product_Description', 'Product_Image', 'Product_Status', 'Order_Zipcode', 'Order_Item_Id',\n",
    "                   'Order_Country', 'Order_Customer_Id', 'Order_Country', 'Order_Region', 'Order_State',\n",
    "                   'Market', 'Customer_State', 'Order_Item_Cardprod_Id', 'Product_Card_Id',\n",
    "                   'Order_Profit_Per_Order','Department_Id','Product_Price']\n",
    "\n",
    "        self.df['Category_Department_Name'] = (self.df['Category_Name'] + '_' + self.df['Department_Name']) \\\n",
    "            .str.replace(' ', '_')\n",
    "\n",
    "        self.df = self.df.drop(to_drop + ['Category_Name','Department_Name'], axis=1)\n",
    "        return self.df\n",
    "\n",
    "    def process_datetetimes(self):\n",
    "        self.df.shipping_date_DateOrders = pd.to_datetime(self.df.shipping_date_DateOrders)\n",
    "        (self.df.shipping_date_DateOrders.astype(np.int64) / int(1e6)).astype('int64')\n",
    "\n",
    "        self.df.order_date_DateOrders = pd.to_datetime(self.df.order_date_DateOrders)\n",
    "        (self.df.order_date_DateOrders.astype(np.int64) / int(1e6)).astype('int64')\n",
    "        return self.df\n",
    "\n",
    "    def augment_with_network_features(self):\n",
    "        self.df['Source'] = ('LA' + self.df['Latitude'].astype('str') + '-' + 'LO' + self.df['Longitude'].astype('str'))\n",
    "        G = nx.from_pandas_edgelist(self.df, source='Source', target='Order_City')\n",
    "        self.df['Source_Centrality'] = self.df.Source.map(dict(G.degree))\n",
    "        return self.df"
   ]
  },
  {
   "cell_type": "markdown",
   "metadata": {
    "id": "HXep1QKF7G5o"
   },
   "source": [
    "THIS CLASS CONTRARY TO THE ONE IN THE ORIGINAL DATASET HAS THE GROUP SHUFFLE TRAIN-TEST SPLIT WHICH ALLOWS TO KEEP ALL THE ITEMS OF THE SAME ORDER TOGHETER DURING THE SPLIT"
   ]
  },
  {
   "cell_type": "code",
   "execution_count": null,
   "metadata": {
    "id": "LCw8q1ty7G5o"
   },
   "outputs": [],
   "source": [
    "from sklearn.model_selection import GroupShuffleSplit\n",
    "class ClassificationDataframeProcessor:\n",
    "    #drop columns to avoid collinerarity. We do so on the basis of the corr matrix showed in the EDA repository\n",
    "    def __init__(self):\n",
    "        self.columns_for_ml = ['Days_for_shipment_scheduled','Benefit_per_order',\n",
    "                               'Order_Id', 'Customer_City',\n",
    "                               'Customer_Segment','Latitude','Longitude','Order_City',\n",
    "                               'Order_Item_Discount','Order_Item_Discount_Rate', 'Type',\n",
    "                               'Order_Item_Profit_Ratio','Order_Item_Quantity',\n",
    "                               'Sales', 'Product_Name',\n",
    "                               'Shipping_Mode','Category_Id','Source_Centrality',\n",
    "                               'Order_Month','Order_Day','Order_Weekday','Is_Fraud']\n",
    "\n",
    "    def process_df_for_classification(self, df):\n",
    "        df['shipping_date_DateOrders'] = pd.to_datetime(df['shipping_date_DateOrders'], unit='ms')\n",
    "        df['order_date_DateOrders'] = pd.to_datetime(df['order_date_DateOrders'], unit='ms')\n",
    "\n",
    "        df['Order_Month'] = df.order_date_DateOrders.dt.month\n",
    "        df['Order_Day'] = df.order_date_DateOrders.dt.day\n",
    "        df['Order_Weekday'] = df.order_date_DateOrders.dt.dayofweek\n",
    "\n",
    "        ml = df[self.columns_for_ml]\n",
    "        return ml\n",
    "\n",
    "    def cycletransform_month_day_weekday(self,df):\n",
    "        \"\"\"\n",
    "        \n",
    "        \"\"\"\n",
    "        ml = vaex.from_pandas(df=df, copy_index=False)\n",
    "        ml = vaex.ml.CycleTransformer(features=['Order_Month'], n=12).fit_transform(ml)\n",
    "        ml = vaex.ml.CycleTransformer(features=['Order_Day'], n=31).fit_transform(ml)\n",
    "        ml = vaex.ml.CycleTransformer(features=['Order_Weekday'], n=7).fit_transform(ml)\n",
    "        ml = ml.to_pandas_df()\n",
    "        return ml\n",
    "\n",
    "    def return_processed_and_split_X_y(self, df):\n",
    "        X = df[[i for i in df.columns if i != 'Is_Fraud']]\n",
    "        X = X.drop(['Order_Month', 'Order_Day', 'Order_Weekday'], axis=1)\n",
    "        y = df['Is_Fraud']\n",
    "        \n",
    "        #GroupShuffleSplit\n",
    "        \n",
    "        groups = df['Order_Id'] \n",
    "        splitter = GroupShuffleSplit(n_splits=2, test_size=0.33)\n",
    "        train_idx, test_idx = next(splitter.split(X, y, groups))\n",
    "\n",
    "        X_train, X_test = X.iloc[train_idx], X.iloc[test_idx]\n",
    "        y_train, y_test = y.iloc[train_idx], y.iloc[test_idx]\n",
    "        X_train = X_train.drop('Order_Id', axis=1)\n",
    "        X_test = X_test.drop('Order_Id', axis=1)\n",
    "\n",
    "        return X_train, X_test, y_train, y_test\n",
    "\n",
    "    @staticmethod\n",
    "    def encode_Xtrain_Xtest(X_train,X_test):\n",
    "\n",
    "        X_train = vaex.from_pandas(df=X_train, copy_index=False)\n",
    "        X_test = vaex.from_pandas(df=X_test, copy_index=False)\n",
    "        ohe = vaex.ml.OneHotEncoder(features=[\"Type\", \"Customer_Segment\",'Shipping_Mode'])\n",
    "        X_train = ohe.fit_transform(df=X_train)\n",
    "        X_test = ohe.transform(X_test)\n",
    "\n",
    "        mhe = vaex.ml.MultiHotEncoder(features=[\"Order_City\", \"Category_Id\", 'Customer_City'])\n",
    "        X_train = mhe.fit_transform(df=X_train)\n",
    "        X_test = mhe.transform(X_test)\n",
    "\n",
    "        X_train = X_train.to_pandas_df()\n",
    "        X_test = X_test.to_pandas_df()\n",
    "\n",
    "        X_train = X_train[X_train.dtypes[X_train.dtypes != 'object'].index.tolist()]\n",
    "        X_test = X_test[X_test.dtypes[X_test.dtypes != 'object'].index.tolist()]\n",
    "\n",
    "        return X_train, X_test\n",
    "\n",
    "#read the original data\n",
    "df_original = pd.read_csv('SupplyChainDataset.csv')\n",
    "#apply the PreprocessDataFrame class and its related functions. \n",
    "#preprocessor = PreprocessDataFrame(df_original)\n",
    "preprocessor = PreprocessDataFrame(df_original).add_target_variable()\n",
    "preprocessor = PreprocessDataFrame(preprocessor).parse_column_names()\n",
    "preprocessor = PreprocessDataFrame(preprocessor).drop_unuseful_columns()\n",
    "preprocessor = PreprocessDataFrame(preprocessor).process_datetetimes()\n",
    "preprocessor = PreprocessDataFrame(preprocessor).augment_with_network_features()  #This class add the 'Source_Centrality' measure, which rely on networkz built-in function to compute the \n",
    "#importance of the source (the Stores, as identified by their lat and long features') on the targets (the order cities). \n",
    "\n",
    "#apply the class for the dataframe processor for the models\n",
    "cdp = ClassificationDataframeProcessor()\n",
    "df_class = cdp.process_df_for_classification(preprocessor)\n",
    "df_class = cdp.cycletransform_month_day_weekday(df_class)\n",
    "X_train, X_test, y_train, y_test = cdp.return_processed_and_split_X_y(df_class)\n",
    "X_train, X_test = cdp.encode_Xtrain_Xtest(X_train, X_test)"
   ]
  },
  {
   "cell_type": "markdown",
   "metadata": {
    "id": "WGKYHBkc9Cwt"
   },
   "source": [
    "#### XGBOOST CLASSIFIER ON THE STRATIFIED GROUPED ID"
   ]
  },
  {
   "cell_type": "code",
   "execution_count": null,
   "metadata": {
    "colab": {
     "base_uri": "https://localhost:8080/"
    },
    "id": "DxtCG4US9SW9",
    "outputId": "863da7ea-458a-4ad6-c229-d44b0bee3e44"
   },
   "outputs": [
    {
     "name": "stdout",
     "output_type": "stream",
     "text": [
      "              precision    recall  f1-score   support\n",
      "\n",
      "           0       0.98      0.99      0.98     58336\n",
      "           1       0.10      0.05      0.07      1328\n",
      "\n",
      "    accuracy                           0.97     59664\n",
      "   macro avg       0.54      0.52      0.53     59664\n",
      "weighted avg       0.96      0.97      0.96     59664\n",
      "\n"
     ]
    }
   ],
   "source": [
    "class_weights = np.sqrt(y_train.value_counts()[0] / y_train.value_counts()[1])\n",
    "from xgboost import XGBClassifier\n",
    "xgb= XGBClassifier(objective = 'binary:logistic', scale_pos_weight=class_weights)\n",
    "xgb.fit(X_train, y_train)\n",
    "\n",
    "y_pred = xgb.predict(X_test)\n",
    "print(classification_report(y_test, y_pred))"
   ]
  },
  {
   "cell_type": "markdown",
   "metadata": {
    "id": "HnBFE4RP-rGs"
   },
   "source": [
    "The result obtained with the new method of splitting the train and test set did not improve a lot the performance of the models on the grouped models. Running different times this model with the Group Shuffle split provided us quite different results, probably depending on the ramdomness of the Group Shuffle Split. "
   ]
  },
  {
   "cell_type": "markdown",
   "metadata": {
    "id": "q3I_ltKq9meC"
   },
   "source": [
    "### XGBoost Tuning with Bayes Opt"
   ]
  },
  {
   "cell_type": "code",
   "execution_count": null,
   "metadata": {
    "colab": {
     "base_uri": "https://localhost:8080/"
    },
    "id": "xZM1fkSGA9h-",
    "outputId": "5482d599-2368-49f1-dd81-ddcce809585b"
   },
   "outputs": [
    {
     "name": "stdout",
     "output_type": "stream",
     "text": [
      "|   iter    |  target   | colsam... | learni... | max_depth | n_esti... | subsample |\n",
      "-------------------------------------------------------------------------------------\n",
      "| \u001b[0m1        \u001b[0m | \u001b[0m0.8498   \u001b[0m | \u001b[0m0.4371   \u001b[0m | \u001b[0m0.4759   \u001b[0m | \u001b[0m7.392    \u001b[0m | \u001b[0m638.8    \u001b[0m | \u001b[0m0.2404   \u001b[0m |\n",
      "| \u001b[95m2        \u001b[0m | \u001b[95m0.8993   \u001b[0m | \u001b[95m0.2404   \u001b[0m | \u001b[95m0.03846  \u001b[0m | \u001b[95m8.197    \u001b[0m | \u001b[95m641.0    \u001b[0m | \u001b[95m0.7373   \u001b[0m |\n",
      "| \u001b[0m3        \u001b[0m | \u001b[0m0.872    \u001b[0m | \u001b[0m0.1185   \u001b[0m | \u001b[0m0.4853   \u001b[0m | \u001b[0m7.995    \u001b[0m | \u001b[0m291.1    \u001b[0m | \u001b[0m0.2636   \u001b[0m |\n",
      "| \u001b[0m4        \u001b[0m | \u001b[0m0.8957   \u001b[0m | \u001b[0m0.2651   \u001b[0m | \u001b[0m0.1591   \u001b[0m | \u001b[0m6.149    \u001b[0m | \u001b[0m488.8    \u001b[0m | \u001b[0m0.3621   \u001b[0m |\n",
      "| \u001b[0m5        \u001b[0m | \u001b[0m0.8712   \u001b[0m | \u001b[0m0.6507   \u001b[0m | \u001b[0m0.07835  \u001b[0m | \u001b[0m4.753    \u001b[0m | \u001b[0m429.7    \u001b[0m | \u001b[0m0.5105   \u001b[0m |\n",
      "| \u001b[0m6        \u001b[0m | \u001b[0m0.899    \u001b[0m | \u001b[0m0.839    \u001b[0m | \u001b[0m0.2516   \u001b[0m | \u001b[0m8.081    \u001b[0m | \u001b[0m640.7    \u001b[0m | \u001b[0m0.7136   \u001b[0m |\n",
      "| \u001b[95m7        \u001b[0m | \u001b[95m0.904    \u001b[0m | \u001b[95m0.5357   \u001b[0m | \u001b[95m0.2838   \u001b[0m | \u001b[95m7.599    \u001b[0m | \u001b[95m641.9    \u001b[0m | \u001b[95m0.8703   \u001b[0m |\n",
      "| \u001b[0m8        \u001b[0m | \u001b[0m0.9019   \u001b[0m | \u001b[0m0.1178   \u001b[0m | \u001b[0m0.4263   \u001b[0m | \u001b[0m8.74     \u001b[0m | \u001b[0m643.0    \u001b[0m | \u001b[0m0.9      \u001b[0m |\n",
      "| \u001b[0m9        \u001b[0m | \u001b[0m0.8808   \u001b[0m | \u001b[0m0.8853   \u001b[0m | \u001b[0m0.4487   \u001b[0m | \u001b[0m6.986    \u001b[0m | \u001b[0m644.7    \u001b[0m | \u001b[0m0.5658   \u001b[0m |\n",
      "| \u001b[0m10       \u001b[0m | \u001b[0m0.8668   \u001b[0m | \u001b[0m0.8259   \u001b[0m | \u001b[0m0.4374   \u001b[0m | \u001b[0m3.665    \u001b[0m | \u001b[0m488.1    \u001b[0m | \u001b[0m0.2513   \u001b[0m |\n",
      "| \u001b[0m11       \u001b[0m | \u001b[0m0.8674   \u001b[0m | \u001b[0m0.46     \u001b[0m | \u001b[0m0.1732   \u001b[0m | \u001b[0m7.895    \u001b[0m | \u001b[0m490.2    \u001b[0m | \u001b[0m0.1465   \u001b[0m |\n",
      "| \u001b[0m12       \u001b[0m | \u001b[0m0.8561   \u001b[0m | \u001b[0m0.3829   \u001b[0m | \u001b[0m0.4107   \u001b[0m | \u001b[0m8.949    \u001b[0m | \u001b[0m641.7    \u001b[0m | \u001b[0m0.2881   \u001b[0m |\n",
      "| \u001b[95m13       \u001b[0m | \u001b[95m0.904    \u001b[0m | \u001b[95m0.1694   \u001b[0m | \u001b[95m0.2986   \u001b[0m | \u001b[95m8.158    \u001b[0m | \u001b[95m641.0    \u001b[0m | \u001b[95m0.7129   \u001b[0m |\n",
      "| \u001b[0m14       \u001b[0m | \u001b[0m0.8993   \u001b[0m | \u001b[0m0.3014   \u001b[0m | \u001b[0m0.2555   \u001b[0m | \u001b[0m7.617    \u001b[0m | \u001b[0m640.4    \u001b[0m | \u001b[0m0.633    \u001b[0m |\n",
      "| \u001b[0m15       \u001b[0m | \u001b[0m0.8816   \u001b[0m | \u001b[0m0.4183   \u001b[0m | \u001b[0m0.313    \u001b[0m | \u001b[0m7.56     \u001b[0m | \u001b[0m641.3    \u001b[0m | \u001b[0m0.4231   \u001b[0m |\n",
      "| \u001b[0m16       \u001b[0m | \u001b[0m0.899    \u001b[0m | \u001b[0m0.3443   \u001b[0m | \u001b[0m0.3293   \u001b[0m | \u001b[0m3.373    \u001b[0m | \u001b[0m772.4    \u001b[0m | \u001b[0m0.9633   \u001b[0m |\n",
      "| \u001b[0m17       \u001b[0m | \u001b[0m0.8921   \u001b[0m | \u001b[0m0.5028   \u001b[0m | \u001b[0m0.03002  \u001b[0m | \u001b[0m8.388    \u001b[0m | \u001b[0m643.0    \u001b[0m | \u001b[0m0.8371   \u001b[0m |\n",
      "| \u001b[95m18       \u001b[0m | \u001b[95m0.9132   \u001b[0m | \u001b[95m0.5773   \u001b[0m | \u001b[95m0.1379   \u001b[0m | \u001b[95m8.29     \u001b[0m | \u001b[95m640.3    \u001b[0m | \u001b[95m0.9828   \u001b[0m |\n",
      "| \u001b[0m19       \u001b[0m | \u001b[0m0.8995   \u001b[0m | \u001b[0m0.1111   \u001b[0m | \u001b[0m0.3045   \u001b[0m | \u001b[0m8.638    \u001b[0m | \u001b[0m639.9    \u001b[0m | \u001b[0m0.5686   \u001b[0m |\n",
      "| \u001b[0m20       \u001b[0m | \u001b[0m0.8792   \u001b[0m | \u001b[0m0.7272   \u001b[0m | \u001b[0m0.2309   \u001b[0m | \u001b[0m4.351    \u001b[0m | \u001b[0m772.2    \u001b[0m | \u001b[0m0.2995   \u001b[0m |\n",
      "| \u001b[0m21       \u001b[0m | \u001b[0m0.9043   \u001b[0m | \u001b[0m0.1328   \u001b[0m | \u001b[0m0.1285   \u001b[0m | \u001b[0m7.114    \u001b[0m | \u001b[0m642.3    \u001b[0m | \u001b[0m0.9761   \u001b[0m |\n",
      "| \u001b[0m22       \u001b[0m | \u001b[0m0.9061   \u001b[0m | \u001b[0m0.624    \u001b[0m | \u001b[0m0.2404   \u001b[0m | \u001b[0m8.913    \u001b[0m | \u001b[0m640.5    \u001b[0m | \u001b[0m0.8893   \u001b[0m |\n",
      "| \u001b[0m23       \u001b[0m | \u001b[0m0.8822   \u001b[0m | \u001b[0m0.207    \u001b[0m | \u001b[0m0.09553  \u001b[0m | \u001b[0m5.979    \u001b[0m | \u001b[0m642.5    \u001b[0m | \u001b[0m0.445    \u001b[0m |\n",
      "| \u001b[0m24       \u001b[0m | \u001b[0m0.8771   \u001b[0m | \u001b[0m0.2419   \u001b[0m | \u001b[0m0.4933   \u001b[0m | \u001b[0m7.424    \u001b[0m | \u001b[0m642.7    \u001b[0m | \u001b[0m0.5255   \u001b[0m |\n",
      "| \u001b[0m25       \u001b[0m | \u001b[0m0.9023   \u001b[0m | \u001b[0m0.2863   \u001b[0m | \u001b[0m0.4134   \u001b[0m | \u001b[0m6.272    \u001b[0m | \u001b[0m487.7    \u001b[0m | \u001b[0m0.8204   \u001b[0m |\n",
      "| \u001b[0m26       \u001b[0m | \u001b[0m0.9132   \u001b[0m | \u001b[0m0.5559   \u001b[0m | \u001b[0m0.1837   \u001b[0m | \u001b[0m6.874    \u001b[0m | \u001b[0m488.1    \u001b[0m | \u001b[0m0.9535   \u001b[0m |\n",
      "| \u001b[0m27       \u001b[0m | \u001b[0m0.8939   \u001b[0m | \u001b[0m0.3006   \u001b[0m | \u001b[0m0.05824  \u001b[0m | \u001b[0m7.614    \u001b[0m | \u001b[0m487.4    \u001b[0m | \u001b[0m0.7022   \u001b[0m |\n",
      "| \u001b[0m28       \u001b[0m | \u001b[0m0.8814   \u001b[0m | \u001b[0m0.492    \u001b[0m | \u001b[0m0.0344   \u001b[0m | \u001b[0m7.435    \u001b[0m | \u001b[0m488.9    \u001b[0m | \u001b[0m0.8911   \u001b[0m |\n",
      "| \u001b[0m29       \u001b[0m | \u001b[0m0.8946   \u001b[0m | \u001b[0m0.637    \u001b[0m | \u001b[0m0.2119   \u001b[0m | \u001b[0m6.826    \u001b[0m | \u001b[0m486.7    \u001b[0m | \u001b[0m0.4415   \u001b[0m |\n",
      "| \u001b[0m30       \u001b[0m | \u001b[0m0.899    \u001b[0m | \u001b[0m0.9875   \u001b[0m | \u001b[0m0.2695   \u001b[0m | \u001b[0m6.9      \u001b[0m | \u001b[0m487.7    \u001b[0m | \u001b[0m0.6549   \u001b[0m |\n",
      "=====================================================================================\n",
      "{'colsample_bytree': 0.5772519617065073, 'learning_rate': 0.1378604524263592, 'max_depth': 8.289678195863338, 'n_estimators': 640.3408512170186, 'subsample': 0.9828401240627447}\n"
     ]
    }
   ],
   "source": [
    "from bayes_opt import BayesianOptimization\n",
    "\n",
    "class_weights = np.sqrt(y_train.value_counts()[0] / y_train.value_counts()[1])\n",
    "#define the object function for the bayesian optimizer\n",
    "def xgb_cv(max_depth, n_estimators, learning_rate, subsample, colsample_bytree):\n",
    "    params = {\n",
    "        'objective': 'binary:logistic',\n",
    "        'eval_metric': 'aucpr',\n",
    "        'max_depth': int(max_depth),\n",
    "        'n_estimators': int(n_estimators),\n",
    "        'learning_rate': learning_rate,\n",
    "        'subsample': subsample,\n",
    "        'colsample_bytree': colsample_bytree,\n",
    "        'scale_pos_weight': class_weights\n",
    "    }\n",
    "    \n",
    "    clf = XGBClassifier(**params)\n",
    "    \n",
    "    cv_result = cross_val_score(clf, X_train, y_train, cv=3, scoring='roc_auc')\n",
    "    \n",
    "    return cv_result.mean()\n",
    "\n",
    "#define the space for the bayesian optimizer\n",
    "pbounds = {\n",
    "    'max_depth': (3, 9),\n",
    "    'n_estimators': (100, 1000),\n",
    "    'learning_rate': (0.01, 0.5),\n",
    "    'subsample': (0.1, 1),\n",
    "    'colsample_bytree': (0.1, 1)\n",
    "}\n",
    "\n",
    "xgb_bo = BayesianOptimization(f=xgb_cv, pbounds=pbounds, verbose=2, random_state=42)\n",
    "xgb_bo.maximize()\n",
    "\n",
    "best_params = xgb_bo.max['params']\n",
    "\n",
    "params = {\n",
    "    'objective': 'binary:logistic',\n",
    "    'eval_metric': 'aucpr',\n",
    "    'max_depth': int(best_params['max_depth']),\n",
    "    'n_estimators': int(best_params['n_estimators']),\n",
    "    'learning_rate': best_params['learning_rate'],\n",
    "    'subsample': best_params['subsample'],\n",
    "    'colsample_bytree': best_params['colsample_bytree'],\n",
    "    'scale_pos_weight': class_weights    \n",
    "}\n",
    "\n",
    "print(best_params)"
   ]
  },
  {
   "cell_type": "code",
   "execution_count": null,
   "metadata": {
    "colab": {
     "base_uri": "https://localhost:8080/"
    },
    "id": "_MzqB4I8lqrM",
    "outputId": "ff150f84-0a64-4c76-dc91-5a1fa53c308c"
   },
   "outputs": [
    {
     "name": "stdout",
     "output_type": "stream",
     "text": [
      "              precision    recall  f1-score   support\n",
      "\n",
      "           0       0.98      1.00      0.99     58529\n",
      "           1       0.09      0.00      0.01      1372\n",
      "\n",
      "    accuracy                           0.98     59901\n",
      "   macro avg       0.53      0.50      0.50     59901\n",
      "weighted avg       0.96      0.98      0.97     59901\n",
      "\n"
     ]
    }
   ],
   "source": [
    "# We have tunend the xgboos classifier to verify the results of the New grouping techniques. However, after a careful review of the grouping techniques and the models, we have realised that even this approach does not allow for a significative improvement of the results.\n",
    "params = { 'objective': 'binary:logistic', 'eval_metric': 'aucpr','colsample_bytree': 0.5772519617065073, 'learning_rate': 0.1378604524263592, 'max_depth': int(8.289678195863338), 'n_estimators': int(640.3408512170186), 'subsample': 0.9828401240627447}\n",
    "\n",
    "class_weights = np.sqrt(y_train.value_counts()[0] / y_train.value_counts()[1])\n",
    "from xgboost import XGBClassifier\n",
    "xgb_bopt= XGBClassifier(**params, scale_pos_weight=class_weights )\n",
    "xgb_bopt.fit(X_train, y_train)\n",
    "\n",
    "y_pred_martino = xgb_bopt.predict(X_test)\n",
    "print(classification_report(y_test, y_pred_martino))"
   ]
  },
  {
   "cell_type": "code",
   "execution_count": null,
   "metadata": {
    "id": "VKO00MzM6JMB"
   },
   "outputs": [],
   "source": [
    "explainer = shap.TreeExplainer(xgb_bopt)\n",
    "shap_values = explainer.shap_values(X_test)"
   ]
  },
  {
   "cell_type": "code",
   "execution_count": null,
   "metadata": {
    "colab": {
     "base_uri": "https://localhost:8080/",
     "height": 887
    },
    "id": "LsahlOO8EenL",
    "outputId": "afedb6d0-7acc-4830-fc87-db4f8f907f4c"
   },
   "outputs": [
    {
     "data": {
      "image/png": "[encoded data removed]",
      "text/plain": [
       "<Figure size 800x950 with 1 Axes>"
      ]
     },
     "metadata": {},
     "output_type": "display_data"
    }
   ],
   "source": [
    "shap.summary_plot(shap_values, features=X_test, feature_names=X_test.columns, plot_type ='bar', show=False)\n",
    "plt.savefig('shap_plot_stratified_orderid')"
   ]
  },
  {
   "cell_type": "markdown",
   "metadata": {
    "id": "yCLt8h3U8UBt"
   },
   "source": [
    "## CLASSIFICATION ON THE GROUPED DATASET"
   ]
  },
  {
   "cell_type": "markdown",
   "metadata": {
    "id": "iOh_GbiWIUPe"
   },
   "source": [
    "### Methodology for grouping"
   ]
  },
  {
   "cell_type": "code",
   "execution_count": null,
   "metadata": {
    "id": "8DTZMXks8TZ2"
   },
   "outputs": [],
   "source": [
    "# Trasforming the original dataframe into the grouped dataframe \n",
    "\n",
    "agg_functions = {\n",
    "    'Type': 'first',\n",
    "    'Order Status': 'first',\n",
    "    'Order City': 'first',\n",
    "    'Customer City':'first',\n",
    "    'Order State': 'first',\n",
    "    'Customer State':'first',\n",
    "    'Delivery Status': 'first',\n",
    "    'Shipping Mode':'first',\n",
    "    'Days for shipping (real)': 'first',\n",
    "    'Days for shipment (scheduled)' :'first',\n",
    "    'order date (DateOrders)': 'first',\n",
    "    'Benefit per order': ['sum', 'median'],\n",
    "    'Order Item Discount Rate': 'median',\n",
    "    'Customer Segment': 'first',\n",
    "    'Customer Id': 'first',\n",
    "    'Latitude': 'first',\n",
    "    'Longitude': 'first',\n",
    "    #'Category Id': lambda x: ','.join(x.unique()),\n",
    "    'Category Name': lambda x: ','.join(x.unique()),\n",
    "    # Add the rest of the categorical columns with the lambda function\n",
    "    'Order Item Total': ['sum',\"median\"],\n",
    "    'Order Item Quantity': ['sum']\n",
    "    # Add any additional numerical columns with the appropriate aggregation functions\n",
    "}\n",
    "# Group by 'Order Id' and apply the aggregation functions\n",
    "grouped_df = df.groupby('Order Id').agg(agg_functions).reset_index()\n",
    "grouped_df.columns = ['_'.join(col) if isinstance(col, tuple) else col for col in grouped_df.columns]\n",
    "grouped_df = grouped_df.drop(columns=[\"Order Id_\"], axis=1)"
   ]
  },
  {
   "cell_type": "markdown",
   "metadata": {
    "id": "_A1SFekEIUPf"
   },
   "source": [
    "### DATA PREPROCESSING"
   ]
  },
  {
   "cell_type": "code",
   "execution_count": null,
   "metadata": {
    "id": "MWx_lsyvcwfh"
   },
   "outputs": [],
   "source": [
    "import datetime as dt\n",
    "grouped_df['order date (DateOrders)_first'] = pd.to_datetime(grouped_df['order date (DateOrders)_first'])\n",
    "def get_month(x):\n",
    "    return dt.datetime(x.year, x.month, 1)\n",
    "\n",
    "grouped_df['InvoiceMonth'] = grouped_df['order date (DateOrders)_first'].apply(get_month)\n",
    "grouping = grouped_df.groupby('Customer Id_first')['InvoiceMonth']\n",
    "grouped_df['CohortMonth'] = grouping.transform('min')\n",
    "grouping_days = grouped_df.groupby('Customer Id_first')['order date (DateOrders)_first']\n",
    "grouped_df['Cohortdays']  = grouping_days.transform('min')\n",
    "def get_date_int(df, column):\n",
    "    year = df[column].dt.year\n",
    "    month = df[column].dt.month\n",
    "    date = df[column].dt.date\n",
    "    hour = df[column].dt.hour\n",
    "    return year, month, date, hour\n",
    "\n",
    "Invoice_Year, Invoice_Month, Invoice_Day, _ = get_date_int(grouped_df, 'order date (DateOrders)_first')\n",
    "Cohort_Year, Cohort_Month , Cohort_day, _ = get_date_int(grouped_df, 'Cohortdays')\n",
    "Year_Diff = Invoice_Year - Cohort_Year\n",
    "Month_Diff = Invoice_Month - Cohort_Month\n",
    "Day_Diff = Invoice_Day - Cohort_day\n",
    "grouped_df['CohortIndex_months'] = Year_Diff*12 + Month_Diff +1\n",
    "grouped_df['CohortIndex_days'] = Day_Diff.dt.days\n",
    "\n",
    "import pandas as pd\n",
    "from sklearn.preprocessing import MultiLabelBinarizer\n",
    "\n",
    "# Assuming you have a DataFrame named 'grouped_data' with a column 'Category Name' containing comma-separated values\n",
    "# Convert the comma-separated strings to lists\n",
    "grouped_df['Category Name_<lambda>'] = grouped_df['Category Name_<lambda>'].apply(lambda x: x.split(','))\n",
    "\n",
    "from sklearn.preprocessing import MultiLabelBinarizer\n",
    "# Initialize MultiLabelBinarizer\n",
    "mlb = MultiLabelBinarizer()\n",
    "\n",
    "# Fit and transform the 'Category Name' column\n",
    "category_name_encoded = mlb.fit_transform(grouped_df['Category Name_<lambda>'])\n",
    "\n",
    "# Create a new DataFrame with binary features for each unique item in 'Category Name'\n",
    "category_name_df = pd.DataFrame(category_name_encoded, columns=mlb.classes_)\n",
    "\n",
    "# Combine the new binary features with the original DataFrame\n",
    "grouped_df = pd.concat([grouped_df.drop(columns=['Category Name_<lambda>']), category_name_df], axis=1)\n",
    "\n",
    "grouped_df['order date (DateOrders)_first'] = pd.to_datetime(grouped_df['order date (DateOrders)_first'])\n",
    "grouped_df['order date (DateOrders)_first'] = pd.to_datetime(grouped_df['order date (DateOrders)_first'], unit='ms')\n",
    "grouped_df['Order_Month'] = grouped_df['order date (DateOrders)_first'].dt.month\n",
    "grouped_df['Order_Day'] =grouped_df['order date (DateOrders)_first'].dt.day\n",
    "grouped_df['Order_Weekday'] = grouped_df['order date (DateOrders)_first'].dt.dayofweek\n",
    "\n",
    "grouped_df = vaex.from_pandas(df=grouped_df, copy_index=False)\n",
    "grouped_df = vaex.ml.CycleTransformer(features=['Order_Month'], n=12).fit_transform(grouped_df)\n",
    "grouped_df = vaex.ml.CycleTransformer(features=['Order_Day'], n=31).fit_transform(grouped_df)\n",
    "grouped_df = vaex.ml.CycleTransformer(features=['Order_Weekday'], n=7).fit_transform(grouped_df)\n",
    "grouped_df = grouped_df.to_pandas_df()"
   ]
  },
  {
   "cell_type": "code",
   "execution_count": null,
   "metadata": {
    "id": "3wSvRi4X8K7g"
   },
   "outputs": [],
   "source": [
    "class PreprocessDataFrame_classification:\n",
    "    def __init__(self, df):\n",
    "        self.df = df\n",
    "\n",
    "    def add_target_variable(self):\n",
    "        self.df['Is_Fraud'] = self.df['Order Status_first'].apply(lambda x: 1 if x=='SUSPECTED_FRAUD' else 0)\n",
    "        return self.df\n",
    "    \n",
    "    def drop_canceled(self):\n",
    "        self.df = self.df[self.df['Order Status_first'] != 'CANCELED']\n",
    "        return self.df\n",
    "  \n",
    "  #def cumulative_orders_customer(self):\n",
    "     # self.df['Customer_Id'] = self.df['Customer_Id'].astype('object')\n",
    "      #self.df['total_number_of_transactions_so_far'] = self.df.groupby('Customer_Id').cumcount() + 1\n",
    "\n",
    "    def process_datetetimes(self):\n",
    "        self.df.order_date_DateOrders = pd.to_datetime(self.df.order_date_DateOrders)\n",
    "        (self.df.order_date_DateOrders.astype(np.int64) / int(1e6)).astype('int64')\n",
    "        return self.df\n",
    "\n",
    "    def augment_with_network_features(self):\n",
    "        self.df['Source'] = ('LA' + self.df['Latitude_first'].astype('str') + '-' + 'LO' + self.df['Longitude_first'].astype('str'))\n",
    "        G = nx.from_pandas_edgelist(self.df, source='Source', target='Order City_first')\n",
    "        self.df['Source_Centrality'] = self.df.Source.map(dict(G.degree))\n",
    "        return self.df\n",
    "\n",
    "grouped_df = PreprocessDataFrame_classification(grouped_df).add_target_variable()\n",
    "grouped_df = PreprocessDataFrame_classification(grouped_df).drop_canceled()\n",
    "grouped_df = PreprocessDataFrame_classification(grouped_df).augment_with_network_features()\n",
    "grouped_df = grouped_df.drop('Order Status_first', axis=1)\n",
    "    \n",
    "X = grouped_df[[i for i in grouped_df.columns if i != 'Is_Fraud']]\n",
    "X = grouped_df.drop(['Order_Month','Order_Day','Order_Weekday', 'order date (DateOrders)_first', 'InvoiceMonth',\n",
    "                    'CohortMonth', 'Cohortdays', 'Is_Fraud', 'Customer Id_first', 'Delivery Status_first', \"Days for shipping (real)_first\"],axis=1)\n",
    "\n",
    "y = grouped_df['Is_Fraud']\n",
    "\n",
    "X_train, X_test, y_train, y_test = train_test_split(X, y, test_size=0.33, stratify=y)\n",
    "\n",
    "X_train = vaex.from_pandas(df=X_train, copy_index=False)\n",
    "X_test = vaex.from_pandas(df=X_test, copy_index=False)\n",
    "ohe = vaex.ml.OneHotEncoder(features=[\"Type_first\", \n",
    "                                      \"Customer Segment_first\",'Shipping Mode_first'])\n",
    "X_train = ohe.fit_transform(df=X_train)\n",
    "X_test = ohe.transform(X_test)\n",
    "\n",
    "mhe = vaex.ml.MultiHotEncoder(features=[\"Order City_first\", \"Customer City_first\", 'Order State_first', 'Customer State_first'])\n",
    "X_train = mhe.fit_transform(df=X_train)\n",
    "X_test = mhe.transform(X_test)\n",
    "\n",
    "X_train = X_train.to_pandas_df()\n",
    "X_test = X_test.to_pandas_df()\n",
    "\n",
    "X_train = X_train[X_train.dtypes[X_train.dtypes != 'object'].index.tolist()]\n",
    "X_test = X_test[X_test.dtypes[X_test.dtypes != 'object'].index.tolist()]"
   ]
  },
  {
   "cell_type": "markdown",
   "metadata": {
    "id": "Bc6PXn0-IUPf"
   },
   "source": [
    "### MODELS"
   ]
  },
  {
   "cell_type": "markdown",
   "metadata": {},
   "source": [
    "#### BASELINE MODEL"
   ]
  },
  {
   "cell_type": "code",
   "execution_count": null,
   "metadata": {},
   "outputs": [],
   "source": [
    "#logisitc regression \n",
    "#Try Logisitc Regression with Matthew Corr Coeff as Scoring Params\n",
    "numerical_features = X_train.select_dtypes(include='number').columns.tolist()\n",
    "\n",
    "numeric_pipeline = Pipeline(steps = [\n",
    "    ('minmax', MinMaxScaler())])\n",
    "\n",
    "full_processor = ColumnTransformer([\n",
    "     ('number', numeric_pipeline, numerical_features)])\n",
    "     \n",
    "log = LogisticRegression(random_state=42, max_iter = 1000, class_weight = 'balanced')\n",
    "\n",
    "# set up pipeline\n",
    "log_pipeline = Pipeline(steps=[\n",
    "    ('preprocess', full_processor),\n",
    "    ('model', log)])\n",
    "\n",
    "params = {\"model__solver\": [\"newton-cg\", \"saga\", \"lbfgs\"],\n",
    "         \"model__C\": np.linspace(0.001, 1.0, 10)}\n",
    "#Random Search for Logistc Regression\n",
    "search = GridSearchCV(log_pipeline, param_grid=params, scoring='matthews_corrcoef', n_jobs=-1)\n",
    "\n",
    "_=search.fit(X_train, y_train)"
   ]
  },
  {
   "cell_type": "code",
   "execution_count": null,
   "metadata": {},
   "outputs": [],
   "source": [
    "y_pred = search.predict(X_test)\n",
    "print(classification_report(y_test, y_pred))"
   ]
  },
  {
   "cell_type": "markdown",
   "metadata": {},
   "source": [
    "The model yielded a 0.09 of precision and 1 of recall"
   ]
  },
  {
   "cell_type": "markdown",
   "metadata": {
    "id": "i4Khf-2QX6s3"
   },
   "source": [
    "#### RANDOM FOREST CLASSIFIER"
   ]
  },
  {
   "cell_type": "code",
   "execution_count": null,
   "metadata": {
    "id": "ceUJhnpWR0ez"
   },
   "outputs": [],
   "source": [
    "from sklearn.model_selection import RandomizedSearchCV\n",
    "from sklearn.ensemble import RandomForestClassifier\n",
    "import numpy as np"
   ]
  },
  {
   "cell_type": "markdown",
   "metadata": {
    "id": "78js6W_2X_pB"
   },
   "source": [
    "RANDOMIZED CROSS VALIDATION"
   ]
  },
  {
   "cell_type": "code",
   "execution_count": null,
   "metadata": {
    "colab": {
     "background_save": true,
     "base_uri": "https://localhost:8080/"
    },
    "id": "dSrzt_utXY6O",
    "outputId": "f3895a68-65bb-47b5-fd10-00928eb8a49b"
   },
   "outputs": [
    {
     "name": "stdout",
     "output_type": "stream",
     "text": [
      "Fitting 3 folds for each of 50 candidates, totalling 150 fits\n",
      "Best hyperparameters: {'n_estimators': 800, 'min_samples_split': 2, 'min_samples_leaf': 2, 'max_depth': 30}\n",
      "Best score: 0.02311240930060041\n"
     ]
    }
   ],
   "source": [
    "# define the hyperparameter search space\n",
    "param_dist = {'n_estimators': [int(x) for x in np.linspace(start = 200, stop = 2000, num = 10)],\n",
    "              'max_depth': [int(x) for x in np.linspace(10, 110, num = 11)],\n",
    "              'min_samples_split': [2, 5, 10],\n",
    "              'min_samples_leaf': [1, 2, 4]\n",
    "              }\n",
    "\n",
    "# define the random forest classifier model\n",
    "rf = RandomForestClassifier()\n",
    "\n",
    "# perform random search with cross-validation to find the best combination of hyperparameters\n",
    "random_search = RandomizedSearchCV(estimator=rf, param_distributions=param_dist,\n",
    "                                   n_iter=50, scoring='neg_mean_absolute_error', \n",
    "                                   cv=3, verbose=2, random_state=42, n_jobs=-1)\n",
    "\n",
    "# fit the random search model\n",
    "random_search.fit(X_train, y_train)\n",
    "\n",
    "# print the best hyperparameters and the best score\n",
    "print('Best hyperparameters:', random_search.best_params_)\n",
    "print('Best score:', -random_search.best_score_)"
   ]
  },
  {
   "cell_type": "code",
   "execution_count": null,
   "metadata": {
    "id": "bI9WOKr5hmuO"
   },
   "outputs": [],
   "source": [
    "rf_opt =RandomForestClassifier(n_estimators = 800, min_samples_split = 2, min_samples_leaf = 2, max_depth = 30, criterion = 'log_loss')\n",
    "rf_opt.fit(X_train, y_train)\n",
    "y_pred_opt = rf_opt.predict(X_test)"
   ]
  },
  {
   "cell_type": "code",
   "execution_count": null,
   "metadata": {
    "colab": {
     "base_uri": "https://localhost:8080/"
    },
    "id": "sO08BLYSXZA-",
    "outputId": "6c6265af-8e0c-4504-80a2-c0d1db16d045"
   },
   "outputs": [
    {
     "name": "stdout",
     "output_type": "stream",
     "text": [
      "              precision    recall  f1-score   support\n",
      "\n",
      "           0       0.98      1.00      0.99     20757\n",
      "           1       0.00      0.00      0.00       491\n",
      "\n",
      "    accuracy                           0.98     21248\n",
      "   macro avg       0.49      0.50      0.49     21248\n",
      "weighted avg       0.95      0.98      0.97     21248\n",
      "\n"
     ]
    },
    {
     "name": "stderr",
     "output_type": "stream",
     "text": [
      "Precision and F-score are ill-defined and being set to 0.0 in labels with no predicted samples. Use `zero_division` parameter to control this behavior.\n",
      "Precision and F-score are ill-defined and being set to 0.0 in labels with no predicted samples. Use `zero_division` parameter to control this behavior.\n",
      "Precision and F-score are ill-defined and being set to 0.0 in labels with no predicted samples. Use `zero_division` parameter to control this behavior.\n"
     ]
    }
   ],
   "source": [
    "print(classification_report(y_test, y_pred_opt))"
   ]
  },
  {
   "cell_type": "markdown",
   "metadata": {
    "id": "R82VWk8Uh_li"
   },
   "source": [
    "#### XGBOOST CLASSIFIER"
   ]
  },
  {
   "cell_type": "code",
   "execution_count": null,
   "metadata": {
    "id": "S3D70HNbIUPg"
   },
   "outputs": [],
   "source": [
    "#no tuning \n",
    "class_weights = np.sqrt(y_train.value_counts()[0] / y_train.value_counts()[1])\n",
    "from xgboost import XGBClassifier\n",
    "xgb= XGBClassifier()\n",
    "xgb.fit(X_train, y_train)\n",
    "y_pred = xgb.predict(X_test)\n",
    "print(classification_report(y_test, y_pred))"
   ]
  },
  {
   "cell_type": "code",
   "execution_count": null,
   "metadata": {
    "id": "lTvWyHI9IUPg"
   },
   "outputs": [],
   "source": [
    "print('This is the classification report for the base model of XGBoost: ')\n",
    "print(classification_report(y_test, y_pred))"
   ]
  },
  {
   "cell_type": "code",
   "execution_count": null,
   "metadata": {
    "id": "crii2Jw0IUPh"
   },
   "outputs": [],
   "source": [
    "from sklearn import metrics\n",
    "# MAKE FIGURE\n",
    "fig, axes = plt.subplots(figsize=(10,4),ncols=2)\n",
    "\n",
    "# PLOTTING CONFUSION MATRIX \n",
    "metrics.ConfusionMatrixDisplay.from_estimator(xgb_c, X_test,y_test,\n",
    "                              display_labels=None,\n",
    "                              normalize='true',\n",
    "                             cmap='Blues',ax=axes[0])\n",
    "axes[0].set(title='Confusion Matrix')\n",
    "\n",
    "#PLOTTING ROC CURVE\n",
    "roc_plot = metrics.RocCurveDisplay.from_estimator(xgb_c, X_test, y_test,ax=axes[1])\n",
    "axes[1].legend()\n",
    "axes[1].plot([0,1],[0,1],ls=':')\n",
    "axes[1].grid()\n",
    "axes[1].set_title('Receiving Operator Characteristic (ROC) Curve') \n",
    "fig.tight_layout()\n",
    "plt.show()"
   ]
  },
  {
   "cell_type": "markdown",
   "metadata": {
    "id": "Bp_m-mktIUPh"
   },
   "source": [
    "###### BAYESIAN OPTIMIZATION on the XGBOOST"
   ]
  },
  {
   "cell_type": "code",
   "execution_count": null,
   "metadata": {
    "id": "nIMsypAZIUPh"
   },
   "outputs": [],
   "source": [
    "from bayes_opt import BayesianOptimization"
   ]
  },
  {
   "cell_type": "code",
   "execution_count": null,
   "metadata": {
    "colab": {
     "base_uri": "https://localhost:8080/"
    },
    "id": "nzqZJvp8h7sv",
    "outputId": "ae180aec-12f7-40de-9918-3b2c6a890289"
   },
   "outputs": [
    {
     "name": "stdout",
     "output_type": "stream",
     "text": [
      "|   iter    |  target   | colsam... | learni... | max_depth | n_esti... | subsample |\n",
      "-------------------------------------------------------------------------------------\n",
      "| \u001b[0m1        \u001b[0m | \u001b[0m0.8066   \u001b[0m | \u001b[0m0.4371   \u001b[0m | \u001b[0m0.4759   \u001b[0m | \u001b[0m7.392    \u001b[0m | \u001b[0m638.8    \u001b[0m | \u001b[0m0.2404   \u001b[0m |\n",
      "| \u001b[95m2        \u001b[0m | \u001b[95m0.8847   \u001b[0m | \u001b[95m0.2404   \u001b[0m | \u001b[95m0.03846  \u001b[0m | \u001b[95m8.197    \u001b[0m | \u001b[95m641.0    \u001b[0m | \u001b[95m0.7373   \u001b[0m |\n",
      "| \u001b[0m3        \u001b[0m | \u001b[0m0.8229   \u001b[0m | \u001b[0m0.1185   \u001b[0m | \u001b[0m0.4853   \u001b[0m | \u001b[0m7.995    \u001b[0m | \u001b[0m291.1    \u001b[0m | \u001b[0m0.2636   \u001b[0m |\n",
      "| \u001b[0m4        \u001b[0m | \u001b[0m0.879    \u001b[0m | \u001b[0m0.2651   \u001b[0m | \u001b[0m0.1591   \u001b[0m | \u001b[0m6.149    \u001b[0m | \u001b[0m488.8    \u001b[0m | \u001b[0m0.3621   \u001b[0m |\n",
      "| \u001b[0m5        \u001b[0m | \u001b[0m0.8823   \u001b[0m | \u001b[0m0.6507   \u001b[0m | \u001b[0m0.07835  \u001b[0m | \u001b[0m4.753    \u001b[0m | \u001b[0m429.7    \u001b[0m | \u001b[0m0.5105   \u001b[0m |\n",
      "| \u001b[0m6        \u001b[0m | \u001b[0m0.8825   \u001b[0m | \u001b[0m0.6928   \u001b[0m | \u001b[0m0.04704  \u001b[0m | \u001b[0m4.763    \u001b[0m | \u001b[0m429.6    \u001b[0m | \u001b[0m0.5667   \u001b[0m |\n",
      "| \u001b[0m7        \u001b[0m | \u001b[0m0.8797   \u001b[0m | \u001b[0m0.85     \u001b[0m | \u001b[0m0.08474  \u001b[0m | \u001b[0m7.815    \u001b[0m | \u001b[0m642.5    \u001b[0m | \u001b[0m0.2594   \u001b[0m |\n",
      "| \u001b[0m8        \u001b[0m | \u001b[0m0.8839   \u001b[0m | \u001b[0m0.1552   \u001b[0m | \u001b[0m0.04678  \u001b[0m | \u001b[0m7.427    \u001b[0m | \u001b[0m428.6    \u001b[0m | \u001b[0m0.6078   \u001b[0m |\n",
      "| \u001b[0m9        \u001b[0m | \u001b[0m0.8704   \u001b[0m | \u001b[0m0.3319   \u001b[0m | \u001b[0m0.1012   \u001b[0m | \u001b[0m6.298    \u001b[0m | \u001b[0m426.2    \u001b[0m | \u001b[0m0.1367   \u001b[0m |\n",
      "| \u001b[0m10       \u001b[0m | \u001b[0m0.8504   \u001b[0m | \u001b[0m0.2421   \u001b[0m | \u001b[0m0.4946   \u001b[0m | \u001b[0m8.943    \u001b[0m | \u001b[0m431.3    \u001b[0m | \u001b[0m0.4886   \u001b[0m |\n",
      "| \u001b[0m11       \u001b[0m | \u001b[0m0.8605   \u001b[0m | \u001b[0m0.4308   \u001b[0m | \u001b[0m0.2433   \u001b[0m | \u001b[0m8.878    \u001b[0m | \u001b[0m426.6    \u001b[0m | \u001b[0m0.3306   \u001b[0m |\n",
      "| \u001b[0m12       \u001b[0m | \u001b[0m0.8479   \u001b[0m | \u001b[0m0.5086   \u001b[0m | \u001b[0m0.3384   \u001b[0m | \u001b[0m3.185    \u001b[0m | \u001b[0m428.2    \u001b[0m | \u001b[0m0.2137   \u001b[0m |\n",
      "| \u001b[0m13       \u001b[0m | \u001b[0m0.8773   \u001b[0m | \u001b[0m0.7713   \u001b[0m | \u001b[0m0.205    \u001b[0m | \u001b[0m6.461    \u001b[0m | \u001b[0m429.4    \u001b[0m | \u001b[0m0.5112   \u001b[0m |\n",
      "| \u001b[0m14       \u001b[0m | \u001b[0m0.8792   \u001b[0m | \u001b[0m0.2839   \u001b[0m | \u001b[0m0.3025   \u001b[0m | \u001b[0m8.973    \u001b[0m | \u001b[0m643.2    \u001b[0m | \u001b[0m0.9347   \u001b[0m |\n",
      "| \u001b[0m15       \u001b[0m | \u001b[0m0.879    \u001b[0m | \u001b[0m0.7446   \u001b[0m | \u001b[0m0.2747   \u001b[0m | \u001b[0m7.936    \u001b[0m | \u001b[0m487.1    \u001b[0m | \u001b[0m0.9545   \u001b[0m |\n",
      "| \u001b[0m16       \u001b[0m | \u001b[0m0.8831   \u001b[0m | \u001b[0m0.4809   \u001b[0m | \u001b[0m0.109    \u001b[0m | \u001b[0m5.977    \u001b[0m | \u001b[0m485.6    \u001b[0m | \u001b[0m0.4111   \u001b[0m |\n",
      "| \u001b[0m17       \u001b[0m | \u001b[0m0.8792   \u001b[0m | \u001b[0m0.7789   \u001b[0m | \u001b[0m0.1075   \u001b[0m | \u001b[0m3.535    \u001b[0m | \u001b[0m486.9    \u001b[0m | \u001b[0m0.4046   \u001b[0m |\n",
      "| \u001b[0m18       \u001b[0m | \u001b[0m0.8766   \u001b[0m | \u001b[0m0.5639   \u001b[0m | \u001b[0m0.3511   \u001b[0m | \u001b[0m3.975    \u001b[0m | \u001b[0m484.0    \u001b[0m | \u001b[0m0.6272   \u001b[0m |\n",
      "| \u001b[0m19       \u001b[0m | \u001b[0m0.7618   \u001b[0m | \u001b[0m0.1      \u001b[0m | \u001b[0m0.5      \u001b[0m | \u001b[0m8.09     \u001b[0m | \u001b[0m484.2    \u001b[0m | \u001b[0m0.1      \u001b[0m |\n",
      "| \u001b[0m20       \u001b[0m | \u001b[0m0.8788   \u001b[0m | \u001b[0m0.1452   \u001b[0m | \u001b[0m0.3294   \u001b[0m | \u001b[0m5.345    \u001b[0m | \u001b[0m487.1    \u001b[0m | \u001b[0m0.7586   \u001b[0m |\n",
      "| \u001b[0m21       \u001b[0m | \u001b[0m0.8092   \u001b[0m | \u001b[0m0.636    \u001b[0m | \u001b[0m0.2221   \u001b[0m | \u001b[0m8.452    \u001b[0m | \u001b[0m489.3    \u001b[0m | \u001b[0m0.1198   \u001b[0m |\n",
      "| \u001b[0m22       \u001b[0m | \u001b[0m0.8838   \u001b[0m | \u001b[0m0.757    \u001b[0m | \u001b[0m0.09537  \u001b[0m | \u001b[0m3.751    \u001b[0m | \u001b[0m489.3    \u001b[0m | \u001b[0m0.9984   \u001b[0m |\n",
      "| \u001b[0m23       \u001b[0m | \u001b[0m0.8842   \u001b[0m | \u001b[0m0.2934   \u001b[0m | \u001b[0m0.07532  \u001b[0m | \u001b[0m3.93     \u001b[0m | \u001b[0m491.3    \u001b[0m | \u001b[0m0.5669   \u001b[0m |\n",
      "| \u001b[95m24       \u001b[0m | \u001b[95m0.8848   \u001b[0m | \u001b[95m0.3054   \u001b[0m | \u001b[95m0.2282   \u001b[0m | \u001b[95m3.09     \u001b[0m | \u001b[95m493.5    \u001b[0m | \u001b[95m0.8586   \u001b[0m |\n",
      "| \u001b[0m25       \u001b[0m | \u001b[0m0.8813   \u001b[0m | \u001b[0m0.8977   \u001b[0m | \u001b[0m0.222    \u001b[0m | \u001b[0m5.442    \u001b[0m | \u001b[0m493.9    \u001b[0m | \u001b[0m0.9778   \u001b[0m |\n",
      "| \u001b[0m26       \u001b[0m | \u001b[0m0.8599   \u001b[0m | \u001b[0m0.5129   \u001b[0m | \u001b[0m0.2845   \u001b[0m | \u001b[0m4.02     \u001b[0m | \u001b[0m495.4    \u001b[0m | \u001b[0m0.3467   \u001b[0m |\n",
      "| \u001b[0m27       \u001b[0m | \u001b[0m0.8814   \u001b[0m | \u001b[0m0.1498   \u001b[0m | \u001b[0m0.2017   \u001b[0m | \u001b[0m7.563    \u001b[0m | \u001b[0m494.9    \u001b[0m | \u001b[0m0.915    \u001b[0m |\n",
      "| \u001b[0m28       \u001b[0m | \u001b[0m0.8833   \u001b[0m | \u001b[0m0.8408   \u001b[0m | \u001b[0m0.1845   \u001b[0m | \u001b[0m5.855    \u001b[0m | \u001b[0m492.1    \u001b[0m | \u001b[0m0.9622   \u001b[0m |\n",
      "| \u001b[0m29       \u001b[0m | \u001b[0m0.8715   \u001b[0m | \u001b[0m0.3524   \u001b[0m | \u001b[0m0.2827   \u001b[0m | \u001b[0m8.783    \u001b[0m | \u001b[0m497.5    \u001b[0m | \u001b[0m0.5242   \u001b[0m |\n",
      "| \u001b[0m30       \u001b[0m | \u001b[0m0.8749   \u001b[0m | \u001b[0m0.6673   \u001b[0m | \u001b[0m0.3036   \u001b[0m | \u001b[0m7.195    \u001b[0m | \u001b[0m645.4    \u001b[0m | \u001b[0m0.9374   \u001b[0m |\n",
      "=====================================================================================\n",
      "{'colsample_bytree': 0.3053680752212282, 'learning_rate': 0.22818729327191628, 'max_depth': 3.0904675908849004, 'n_estimators': 493.52654239625554, 'subsample': 0.8585846572203086}\n"
     ]
    }
   ],
   "source": [
    "class_weights = np.sqrt(y_train.value_counts()[0] / y_train.value_counts()[1])\n",
    "#define the object function for the bayesian optimizer\n",
    "def xgb_cv(max_depth, n_estimators, learning_rate, subsample, colsample_bytree):\n",
    "    params = {\n",
    "        'objective': 'binary:logistic',\n",
    "        'eval_metric': 'aucpr',\n",
    "        'max_depth': int(max_depth),\n",
    "        'n_estimators': int(n_estimators),\n",
    "        'learning_rate': learning_rate,\n",
    "        'subsample': subsample,\n",
    "        'colsample_bytree': colsample_bytree,\n",
    "        'scale_pos_weight': class_weights\n",
    "    }\n",
    "    \n",
    "    clf = xgb.XGBClassifier(**params)\n",
    "    \n",
    "    cv_result = cross_val_score(clf, X_train, y_train, cv=3, scoring='roc_auc')\n",
    "    \n",
    "    return cv_result.mean()\n",
    "\n",
    "#define the space for the bayesian optimizer\n",
    "pbounds = {\n",
    "    'max_depth': (3, 9),\n",
    "    'n_estimators': (100, 1000),\n",
    "    'learning_rate': (0.01, 0.5),\n",
    "    'subsample': (0.1, 1),\n",
    "    'colsample_bytree': (0.1, 1)\n",
    "}\n",
    "\n",
    "xgb_bo = BayesianOptimization(f=xgb_cv, pbounds=pbounds, verbose=2, random_state=42)\n",
    "xgb_bo.maximize()\n",
    "\n",
    "best_params = xgb_bo.max['params']\n",
    "\n",
    "params = {\n",
    "    'objective': 'binary:logistic',\n",
    "    'eval_metric': 'aucpr',\n",
    "    'max_depth': int(best_params['max_depth']),\n",
    "    'n_estimators': int(best_params['n_estimators']),\n",
    "    'learning_rate': best_params['learning_rate'],\n",
    "    'subsample': best_params['subsample'],\n",
    "    'colsample_bytree': best_params['colsample_bytree'],\n",
    "    'scale_pos_weight': class_weights    \n",
    "}\n",
    "\n",
    "print(best_params)"
   ]
  },
  {
   "cell_type": "code",
   "execution_count": null,
   "metadata": {
    "id": "Uq7dJQl4qXIf"
   },
   "outputs": [],
   "source": [
    "clf_bopt = xgb.XGBClassifier(colsample_bytree= 0.3053680752212282, learning_rate= 0.22818729327191628, max_depth=3.0904675908849004, n_estimators= 493.52654239625554, subsample= 0.8585846572203086)\n",
    "clf_bopt.fit(X_train, y_train)\n",
    "y_pred_bopt = clf_bopt.predict(X_test)"
   ]
  },
  {
   "cell_type": "code",
   "execution_count": null,
   "metadata": {
    "colab": {
     "base_uri": "https://localhost:8080/"
    },
    "id": "fUqjncFBigKo",
    "outputId": "a772a8ca-82bf-4c10-9961-0bd4f3b20ee6"
   },
   "outputs": [
    {
     "name": "stdout",
     "output_type": "stream",
     "text": [
      "              precision    recall  f1-score   support\n",
      "\n",
      "           0       0.98      0.98      0.98     20757\n",
      "           1       0.08      0.08      0.08       491\n",
      "\n",
      "    accuracy                           0.96     21248\n",
      "   macro avg       0.53      0.53      0.53     21248\n",
      "weighted avg       0.96      0.96      0.96     21248\n",
      "\n"
     ]
    }
   ],
   "source": [
    "print(classification_report(y_test, y_pred_bopt))"
   ]
  },
  {
   "cell_type": "markdown",
   "metadata": {},
   "source": [
    "This was the maximum result that we were able to achieve through the Xgboost model with tuning"
   ]
  },
  {
   "cell_type": "code",
   "execution_count": null,
   "metadata": {
    "id": "nbzVMZU4IUPi"
   },
   "outputs": [],
   "source": [
    "from sklearn import metrics\n",
    "# MAKE FIGURE\n",
    "fig, axes = plt.subplots(figsize=(10,4),ncols=2)\n",
    "\n",
    "# PLOTTING CONFUSION MATRIX \n",
    "metrics.ConfusionMatrixDisplay.from_estimator(xgb_c, X_test,y_test,\n",
    "                              display_labels=None,\n",
    "                              normalize='true',\n",
    "                             cmap='Blues',ax=axes[0])\n",
    "axes[0].set(title='Confusion Matrix')\n",
    "\n",
    "#PLOTTING ROC CURVE\n",
    "roc_plot = metrics.RocCurveDisplay.from_estimator(xgb_c, X_test, y_test,ax=axes[1])\n",
    "axes[1].legend()\n",
    "axes[1].plot([0,1],[0,1],ls=':')\n",
    "axes[1].grid()\n",
    "axes[1].set_title('Receiving Operator Characteristic (ROC) Curve') \n",
    "fig.tight_layout()\n",
    "plt.show()"
   ]
  },
  {
   "cell_type": "markdown",
   "metadata": {
    "id": "BWal3zxDjnSn"
   },
   "source": [
    "### ANOMALIES DETECTION with Isolation forest, One Class SVM, Local Outlier Factor"
   ]
  },
  {
   "cell_type": "markdown",
   "metadata": {},
   "source": [
    "Then we tried unsupervised learning models for anomalies detection. Isolation forest provided us with the best result of precision 0.03 and recall 0.14."
   ]
  },
  {
   "cell_type": "code",
   "execution_count": null,
   "metadata": {
    "id": "ysXgsdtAjmTw"
   },
   "outputs": [],
   "source": [
    "import numpy as np\n",
    "import pandas as pd\n",
    "from sklearn.model_selection import train_test_split\n",
    "from sklearn.metrics import classification_report, accuracy_score, f1_score\n",
    "from sklearn.ensemble import IsolationForest\n",
    "from sklearn.svm import OneClassSVM\n",
    "from sklearn.neighbors import LocalOutlierFactor\n",
    "from sklearn.datasets import make_classification\n",
    "\n",
    "\n",
    "# Convert target labels to 1 (normal) and -1 (anomaly)\n",
    "\n",
    "\n",
    "# Define the classifiers\n",
    "classifiers = {\n",
    "    \"Isolation Forest\": IsolationForest(contamination=0.1, random_state=42),\n",
    "    \"One-Class SVM\": OneClassSVM(kernel=\"rbf\", nu=0.1, gamma=0.1),\n",
    "    \"Local Outlier Factor\": LocalOutlierFactor(n_neighbors=20, contamination=0.1)\n",
    "}\n",
    "\n",
    "# Train and evaluate the classifiers\n",
    "for name, clf in classifiers.items():\n",
    "    if name == \"Local Outlier Factor\":\n",
    "        y_pred = clf.fit_predict(X_test)\n",
    "    else:\n",
    "        clf.fit(X_train)\n",
    "        y_pred = clf.predict(X_test)\n",
    "\n",
    "    print(f\"\\n{name} Results:\")\n",
    "    print(f\"Accuracy: {accuracy_score(y_test, y_pred):.3f}\")\n",
    "    print(f\"F1 Score: {f1_score(y_test, y_pred, pos_label=-1):.3f}\")\n",
    "    print(classification_report(y_test, y_pred))"
   ]
  },
  {
   "cell_type": "markdown",
   "metadata": {
    "id": "MAuMbSFwjI9_"
   },
   "source": []
  }
 ],
 "metadata": {
  "colab": {
   "collapsed_sections": [
    "thbbKJ_d8XLp",
    "WGKYHBkc9Cwt",
    "yCLt8h3U8UBt",
    "_A1SFekEIUPf",
    "Bc6PXn0-IUPf"
   ],
   "provenance": []
  },
  "kernelspec": {
   "display_name": "Python 3 (ipykernel)",
   "language": "python",
   "name": "python3"
  },
  "language_info": {
   "codemirror_mode": {
    "name": "ipython",
    "version": 3
   },
   "file_extension": ".py",
   "mimetype": "text/x-python",
   "name": "python",
   "nbconvert_exporter": "python",
   "pygments_lexer": "ipython3",
   "version": "3.9.7"
  }
 },
 "nbformat": 4,
 "nbformat_minor": 1
}
